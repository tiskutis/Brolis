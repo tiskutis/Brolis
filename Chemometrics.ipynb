{
  "nbformat": 4,
  "nbformat_minor": 0,
  "metadata": {
    "colab": {
      "name": "Chemometrics.ipynb",
      "provenance": [],
      "authorship_tag": "ABX9TyMF0/p9AqePV7oEVW8Bkw4Q",
      "include_colab_link": true
    },
    "kernelspec": {
      "name": "python3",
      "display_name": "Python 3"
    },
    "language_info": {
      "name": "python"
    }
  },
  "cells": [
    {
      "cell_type": "markdown",
      "metadata": {
        "id": "view-in-github",
        "colab_type": "text"
      },
      "source": [
        "<a href=\"https://colab.research.google.com/github/tiskutis/Brolis/blob/main/Chemometrics.ipynb\" target=\"_parent\"><img src=\"https://colab.research.google.com/assets/colab-badge.svg\" alt=\"Open In Colab\"/></a>"
      ]
    },
    {
      "cell_type": "code",
      "metadata": {
        "id": "JeR3OqbHSuxP"
      },
      "source": [
        "import pandas as pd\n",
        "from pandas import Series\n",
        "from google.colab import drive\n",
        "from os.path import join\n",
        "import re"
      ],
      "execution_count": 190,
      "outputs": []
    },
    {
      "cell_type": "code",
      "metadata": {
        "colab": {
          "base_uri": "https://localhost:8080/"
        },
        "id": "7lEQMPxpfxFk",
        "outputId": "421089dd-b958-4b99-fb5b-af78a217aab0"
      },
      "source": [
        "drive.mount('/content/drive/')"
      ],
      "execution_count": 191,
      "outputs": [
        {
          "output_type": "stream",
          "name": "stdout",
          "text": [
            "Drive already mounted at /content/drive/; to attempt to forcibly remount, call drive.mount(\"/content/drive/\", force_remount=True).\n"
          ]
        }
      ]
    },
    {
      "cell_type": "code",
      "metadata": {
        "id": "R9L6ESnUSxWd"
      },
      "source": [
        "ref_spectra = pd.read_csv('/content/drive/MyDrive/Brolis/Task/Data_prepared_syntetic/Data_prepared_syntetic/Reference_spectra.csv')"
      ],
      "execution_count": 192,
      "outputs": []
    },
    {
      "cell_type": "code",
      "metadata": {
        "colab": {
          "base_uri": "https://localhost:8080/",
          "height": 424
        },
        "id": "5Rxfy7DHTZ88",
        "outputId": "5ece3522-4df7-4586-a7d2-12e3bd81f387"
      },
      "source": [
        "ref_spectra"
      ],
      "execution_count": 193,
      "outputs": [
        {
          "output_type": "execute_result",
          "data": {
            "text/html": [
              "<div>\n",
              "<style scoped>\n",
              "    .dataframe tbody tr th:only-of-type {\n",
              "        vertical-align: middle;\n",
              "    }\n",
              "\n",
              "    .dataframe tbody tr th {\n",
              "        vertical-align: top;\n",
              "    }\n",
              "\n",
              "    .dataframe thead th {\n",
              "        text-align: right;\n",
              "    }\n",
              "</style>\n",
              "<table border=\"1\" class=\"dataframe\">\n",
              "  <thead>\n",
              "    <tr style=\"text-align: right;\">\n",
              "      <th></th>\n",
              "      <th>wavelength</th>\n",
              "      <th>glucose_absorptivity</th>\n",
              "      <th>water_absorptivity</th>\n",
              "    </tr>\n",
              "  </thead>\n",
              "  <tbody>\n",
              "    <tr>\n",
              "      <th>0</th>\n",
              "      <td>2000</td>\n",
              "      <td>0.020000</td>\n",
              "      <td>0.021852</td>\n",
              "    </tr>\n",
              "    <tr>\n",
              "      <th>1</th>\n",
              "      <td>2001</td>\n",
              "      <td>0.020000</td>\n",
              "      <td>0.021761</td>\n",
              "    </tr>\n",
              "    <tr>\n",
              "      <th>2</th>\n",
              "      <td>2002</td>\n",
              "      <td>0.020000</td>\n",
              "      <td>0.021671</td>\n",
              "    </tr>\n",
              "    <tr>\n",
              "      <th>3</th>\n",
              "      <td>2003</td>\n",
              "      <td>0.020000</td>\n",
              "      <td>0.021580</td>\n",
              "    </tr>\n",
              "    <tr>\n",
              "      <th>4</th>\n",
              "      <td>2004</td>\n",
              "      <td>0.020000</td>\n",
              "      <td>0.021489</td>\n",
              "    </tr>\n",
              "    <tr>\n",
              "      <th>...</th>\n",
              "      <td>...</td>\n",
              "      <td>...</td>\n",
              "      <td>...</td>\n",
              "    </tr>\n",
              "    <tr>\n",
              "      <th>396</th>\n",
              "      <td>2396</td>\n",
              "      <td>0.019621</td>\n",
              "      <td>0.021489</td>\n",
              "    </tr>\n",
              "    <tr>\n",
              "      <th>397</th>\n",
              "      <td>2397</td>\n",
              "      <td>0.019639</td>\n",
              "      <td>0.021580</td>\n",
              "    </tr>\n",
              "    <tr>\n",
              "      <th>398</th>\n",
              "      <td>2398</td>\n",
              "      <td>0.019655</td>\n",
              "      <td>0.021671</td>\n",
              "    </tr>\n",
              "    <tr>\n",
              "      <th>399</th>\n",
              "      <td>2399</td>\n",
              "      <td>0.019671</td>\n",
              "      <td>0.021761</td>\n",
              "    </tr>\n",
              "    <tr>\n",
              "      <th>400</th>\n",
              "      <td>2400</td>\n",
              "      <td>0.019686</td>\n",
              "      <td>0.021852</td>\n",
              "    </tr>\n",
              "  </tbody>\n",
              "</table>\n",
              "<p>401 rows × 3 columns</p>\n",
              "</div>"
            ],
            "text/plain": [
              "     wavelength  glucose_absorptivity  water_absorptivity\n",
              "0          2000              0.020000            0.021852\n",
              "1          2001              0.020000            0.021761\n",
              "2          2002              0.020000            0.021671\n",
              "3          2003              0.020000            0.021580\n",
              "4          2004              0.020000            0.021489\n",
              "..          ...                   ...                 ...\n",
              "396        2396              0.019621            0.021489\n",
              "397        2397              0.019639            0.021580\n",
              "398        2398              0.019655            0.021671\n",
              "399        2399              0.019671            0.021761\n",
              "400        2400              0.019686            0.021852\n",
              "\n",
              "[401 rows x 3 columns]"
            ]
          },
          "metadata": {},
          "execution_count": 193
        }
      ]
    },
    {
      "cell_type": "code",
      "metadata": {
        "id": "g3x9drsxdXK-"
      },
      "source": [
        "path = '/content/drive/MyDrive/Brolis/Task/Data_prepared_syntetic/Data_prepared_syntetic'\n",
        "filenames = [f for f in listdir(path) if f.endswith('.h5')]"
      ],
      "execution_count": 194,
      "outputs": []
    },
    {
      "cell_type": "code",
      "metadata": {
        "id": "X5OTQCsUdjxY"
      },
      "source": [
        "files = []\n",
        "\n",
        "for filename in filenames:\n",
        "  file_info = {}\n",
        "  with h5py.File(join(path, filename), \"r\") as f:\n",
        "    a_group_key = list(f.keys())[0]\n",
        "    group = f[a_group_key]\n",
        "\n",
        "    file_info['absorbance'] = group['block0_values'][()]\n",
        "    file_info['wavelength'] = group['block1_values'][()]\n",
        "    file_info['concentration'] = abs(float(re.findall(r\"[-+]?\\d*\\.\\d+|\\d+\", filename)[0]))\n",
        "    files.append(file_info)"
      ],
      "execution_count": 195,
      "outputs": []
    },
    {
      "cell_type": "code",
      "metadata": {
        "colab": {
          "base_uri": "https://localhost:8080/"
        },
        "id": "jaavTHVke2CD",
        "outputId": "da88ea67-35cb-406a-d5df-3798b65f0049"
      },
      "source": [
        "for file in files:\n",
        "  print(min(file['wavelength']), max(file['wavelength']))"
      ],
      "execution_count": 196,
      "outputs": [
        {
          "output_type": "stream",
          "name": "stdout",
          "text": [
            "[2000] [2400]\n",
            "[2000] [2400]\n",
            "[2000] [2400]\n",
            "[2000] [2400]\n",
            "[2000] [2400]\n",
            "[2000] [2400]\n",
            "[2000] [2400]\n",
            "[2000] [2400]\n",
            "[2000] [2400]\n",
            "[2000] [2400]\n"
          ]
        }
      ]
    },
    {
      "cell_type": "code",
      "metadata": {
        "id": "gXNlbmK8gceh"
      },
      "source": [
        "#All measurements are in range of 2000-2400 nm so I take wavelenghts only from\n",
        "#the first measurement. \n",
        "\n",
        "data = {'wavelength': files[0]['wavelength'].flatten()}\n",
        "\n",
        "for file in files:\n",
        "  concentration = file['concentration']\n",
        "  key = f'absorbance c={concentration}'\n",
        "  data[key] = file['absorbance'].flatten()"
      ],
      "execution_count": 197,
      "outputs": []
    },
    {
      "cell_type": "code",
      "metadata": {
        "id": "DvqxgxuYjZ0g"
      },
      "source": [
        "df = pd.DataFrame(data)"
      ],
      "execution_count": 198,
      "outputs": []
    },
    {
      "cell_type": "code",
      "metadata": {
        "id": "oWkNAJtBosJu"
      },
      "source": [
        "df = pd.merge(df, ref_spectra, on='wavelength')"
      ],
      "execution_count": 199,
      "outputs": []
    },
    {
      "cell_type": "code",
      "metadata": {
        "colab": {
          "base_uri": "https://localhost:8080/"
        },
        "id": "MGL3_Qm3kstP",
        "outputId": "130bc9b4-d59e-4491-f423-05bbf223778f"
      },
      "source": [
        "df.shape"
      ],
      "execution_count": 200,
      "outputs": [
        {
          "output_type": "execute_result",
          "data": {
            "text/plain": [
              "(401, 13)"
            ]
          },
          "metadata": {},
          "execution_count": 200
        }
      ]
    },
    {
      "cell_type": "code",
      "metadata": {
        "colab": {
          "base_uri": "https://localhost:8080/",
          "height": 224
        },
        "id": "LOUu3JsDo7IC",
        "outputId": "aecc3832-4cf5-44b8-f55d-40bb7aa62432"
      },
      "source": [
        "df.head()"
      ],
      "execution_count": 202,
      "outputs": [
        {
          "output_type": "execute_result",
          "data": {
            "text/html": [
              "<div>\n",
              "<style scoped>\n",
              "    .dataframe tbody tr th:only-of-type {\n",
              "        vertical-align: middle;\n",
              "    }\n",
              "\n",
              "    .dataframe tbody tr th {\n",
              "        vertical-align: top;\n",
              "    }\n",
              "\n",
              "    .dataframe thead th {\n",
              "        text-align: right;\n",
              "    }\n",
              "</style>\n",
              "<table border=\"1\" class=\"dataframe\">\n",
              "  <thead>\n",
              "    <tr style=\"text-align: right;\">\n",
              "      <th></th>\n",
              "      <th>wavelength</th>\n",
              "      <th>absorbance c=0.03</th>\n",
              "      <th>absorbance c=0.04</th>\n",
              "      <th>absorbance c=0.07</th>\n",
              "      <th>absorbance c=0.05</th>\n",
              "      <th>absorbance c=0.06</th>\n",
              "      <th>absorbance c=0.12</th>\n",
              "      <th>absorbance c=0.1</th>\n",
              "      <th>absorbance c=0.08</th>\n",
              "      <th>absorbance c=0.09</th>\n",
              "      <th>absorbance c=0.11</th>\n",
              "      <th>glucose_absorptivity</th>\n",
              "      <th>water_absorptivity</th>\n",
              "    </tr>\n",
              "  </thead>\n",
              "  <tbody>\n",
              "    <tr>\n",
              "      <th>0</th>\n",
              "      <td>2000</td>\n",
              "      <td>0.001091</td>\n",
              "      <td>0.001085</td>\n",
              "      <td>0.001084</td>\n",
              "      <td>0.001094</td>\n",
              "      <td>0.001094</td>\n",
              "      <td>0.001080</td>\n",
              "      <td>0.001087</td>\n",
              "      <td>0.001081</td>\n",
              "      <td>0.001083</td>\n",
              "      <td>0.001079</td>\n",
              "      <td>0.02</td>\n",
              "      <td>0.021852</td>\n",
              "    </tr>\n",
              "    <tr>\n",
              "      <th>1</th>\n",
              "      <td>2001</td>\n",
              "      <td>0.001090</td>\n",
              "      <td>0.001078</td>\n",
              "      <td>0.001078</td>\n",
              "      <td>0.001087</td>\n",
              "      <td>0.001088</td>\n",
              "      <td>0.001081</td>\n",
              "      <td>0.001084</td>\n",
              "      <td>0.001084</td>\n",
              "      <td>0.001087</td>\n",
              "      <td>0.001080</td>\n",
              "      <td>0.02</td>\n",
              "      <td>0.021761</td>\n",
              "    </tr>\n",
              "    <tr>\n",
              "      <th>2</th>\n",
              "      <td>2002</td>\n",
              "      <td>0.001077</td>\n",
              "      <td>0.001083</td>\n",
              "      <td>0.001075</td>\n",
              "      <td>0.001071</td>\n",
              "      <td>0.001075</td>\n",
              "      <td>0.001076</td>\n",
              "      <td>0.001072</td>\n",
              "      <td>0.001090</td>\n",
              "      <td>0.001068</td>\n",
              "      <td>0.001071</td>\n",
              "      <td>0.02</td>\n",
              "      <td>0.021671</td>\n",
              "    </tr>\n",
              "    <tr>\n",
              "      <th>3</th>\n",
              "      <td>2003</td>\n",
              "      <td>0.001082</td>\n",
              "      <td>0.001074</td>\n",
              "      <td>0.001072</td>\n",
              "      <td>0.001080</td>\n",
              "      <td>0.001078</td>\n",
              "      <td>0.001073</td>\n",
              "      <td>0.001074</td>\n",
              "      <td>0.001075</td>\n",
              "      <td>0.001080</td>\n",
              "      <td>0.001075</td>\n",
              "      <td>0.02</td>\n",
              "      <td>0.021580</td>\n",
              "    </tr>\n",
              "    <tr>\n",
              "      <th>4</th>\n",
              "      <td>2004</td>\n",
              "      <td>0.001072</td>\n",
              "      <td>0.001075</td>\n",
              "      <td>0.001070</td>\n",
              "      <td>0.001067</td>\n",
              "      <td>0.001078</td>\n",
              "      <td>0.001068</td>\n",
              "      <td>0.001077</td>\n",
              "      <td>0.001067</td>\n",
              "      <td>0.001065</td>\n",
              "      <td>0.001065</td>\n",
              "      <td>0.02</td>\n",
              "      <td>0.021489</td>\n",
              "    </tr>\n",
              "  </tbody>\n",
              "</table>\n",
              "</div>"
            ],
            "text/plain": [
              "   wavelength  absorbance c=0.03  ...  glucose_absorptivity  water_absorptivity\n",
              "0        2000           0.001091  ...                  0.02            0.021852\n",
              "1        2001           0.001090  ...                  0.02            0.021761\n",
              "2        2002           0.001077  ...                  0.02            0.021671\n",
              "3        2003           0.001082  ...                  0.02            0.021580\n",
              "4        2004           0.001072  ...                  0.02            0.021489\n",
              "\n",
              "[5 rows x 13 columns]"
            ]
          },
          "metadata": {},
          "execution_count": 202
        }
      ]
    },
    {
      "cell_type": "code",
      "metadata": {
        "id": "_ns90ornYpAD"
      },
      "source": [
        "# data = group['axis0'][()] # [b'wavelength' b'absorbance']\n",
        "    # data = group['axis1'][()] # index 0 - 401\n",
        "    # data = group['block0_items'][()] # [b'absorbance']\n",
        "    # data = group['block1_items'][()] # [b'wavelength']\n",
        "    # data = group['block0_values'][()] # absorbande data i need\n",
        "    # data = group['block1_values'][()] # wavelength data i need"
      ],
      "execution_count": 201,
      "outputs": []
    },
    {
      "cell_type": "code",
      "metadata": {
        "colab": {
          "base_uri": "https://localhost:8080/",
          "height": 297
        },
        "id": "0u6FPdSEpSPd",
        "outputId": "dee5efec-83f1-494f-8d34-99156da1be49"
      },
      "source": [
        "df.plot(x='wavelength', y='absorbance c=0.12')"
      ],
      "execution_count": 206,
      "outputs": [
        {
          "output_type": "execute_result",
          "data": {
            "text/plain": [
              "<matplotlib.axes._subplots.AxesSubplot at 0x7fe81f1a1a10>"
            ]
          },
          "metadata": {},
          "execution_count": 206
        },
        {
          "output_type": "display_data",
          "data": {
            "image/png": "[encoded data removed]",
            "text/plain": [
              "<Figure size 432x288 with 1 Axes>"
            ]
          },
          "metadata": {
            "needs_background": "light"
          }
        }
      ]
    },
    {
      "cell_type": "code",
      "metadata": {
        "colab": {
          "base_uri": "https://localhost:8080/",
          "height": 296
        },
        "id": "54LlT63vpehS",
        "outputId": "e5060888-6c73-4e85-b826-5e2dc05a7693"
      },
      "source": [
        "df.plot(x='wavelength', y='glucose_absorptivity')"
      ],
      "execution_count": 209,
      "outputs": [
        {
          "output_type": "execute_result",
          "data": {
            "text/plain": [
              "<matplotlib.axes._subplots.AxesSubplot at 0x7fe81ccb1e10>"
            ]
          },
          "metadata": {},
          "execution_count": 209
        },
        {
          "output_type": "display_data",
          "data": {
            "image/png": "[encoded data removed]",
            "text/plain": [
              "<Figure size 432x288 with 1 Axes>"
            ]
          },
          "metadata": {
            "needs_background": "light"
          }
        }
      ]
    }
  ]
}