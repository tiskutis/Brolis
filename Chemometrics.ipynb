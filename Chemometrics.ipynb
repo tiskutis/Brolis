{
  "nbformat": 4,
  "nbformat_minor": 0,
  "metadata": {
    "colab": {
      "name": "Chemometrics.ipynb",
      "provenance": [],
      "authorship_tag": "ABX9TyMDwApIYTGuvQmLgZw8WWt1",
      "include_colab_link": true
    },
    "kernelspec": {
      "name": "python3",
      "display_name": "Python 3"
    },
    "language_info": {
      "name": "python"
    }
  },
  "cells": [
    {
      "cell_type": "markdown",
      "metadata": {
        "id": "view-in-github",
        "colab_type": "text"
      },
      "source": [
        "<a href=\"https://colab.research.google.com/github/tiskutis/Brolis/blob/main/Chemometrics.ipynb\" target=\"_parent\"><img src=\"https://colab.research.google.com/assets/colab-badge.svg\" alt=\"Open In Colab\"/></a>"
      ]
    },
    {
      "cell_type": "markdown",
      "metadata": {
        "id": "vQzb3lQy_-sr"
      },
      "source": [
        "Chemometrics is the science of extracting information from chemical systems by data-driven means. Chemometrics is inherently interdisciplinary, using methods frequently employed in core data-analytic disciplines such as multivariate statistics, applied mathematics, and computer science, in order to address problems in chemistry, biochemistry, medicine, biology and chemical engineering. \n",
        "\n",
        "In Brolis Sensor Technology, ultra-compact laser-based integrated sensor technology molecule-sensing is based on relation between near infrared absorption spectra measurements and target molecule concentration. In this task, we provide you a database of artificial near infrared absorption spectra of aqueous glucose solution with corresponding concentrations and two reference spectra of glucose 𝜀𝑔𝑙𝑢𝑐𝑜𝑠𝑒 and water 𝜀𝑤𝑎𝑡𝑒𝑟 separately. Assume that at every wavelength absorption’s 𝐴 relationship on reference spectra and concentration 𝑐 is described by function \n",
        "\n",
        "`𝐴 = 𝑎 + 𝑑 (𝑐*𝜀𝑔𝑙𝑢𝑐𝑜𝑠𝑒 +(1−𝑐)*𝜀𝑤𝑎𝑡𝑒𝑟) + 𝑢`, \n",
        "\n",
        "where 𝑢 is random noise and 𝑎,𝑑,𝑐 are real numbers. Fit a model to the 10 spectra Sample_Gluc-xxx.h5 given in Data_prepared_syntetic.zip and estimate parameters 𝑎,𝑑,𝑐. Numbers in the file names are real concentrations. Evaluate concentration prediction accuracy using RMSE (root mean squared error) measure."
      ]
    },
    {
      "cell_type": "code",
      "metadata": {
        "id": "JeR3OqbHSuxP"
      },
      "source": [
        "import pandas as pd\n",
        "from pandas import Series\n",
        "from google.colab import drive\n",
        "from os.path import join\n",
        "import re\n",
        "from sklearn.model_selection import train_test_split\n",
        "from sklearn.linear_model import LinearRegression\n",
        "from sklearn.metrics import mean_squared_error"
      ],
      "execution_count": 258,
      "outputs": []
    },
    {
      "cell_type": "code",
      "metadata": {
        "id": "7lEQMPxpfxFk"
      },
      "source": [
        "drive.mount('/content/drive/')"
      ],
      "execution_count": null,
      "outputs": []
    },
    {
      "cell_type": "markdown",
      "metadata": {
        "id": "Zr-qg24zAg4r"
      },
      "source": [
        "Reading reference spectra:"
      ]
    },
    {
      "cell_type": "code",
      "metadata": {
        "id": "R9L6ESnUSxWd"
      },
      "source": [
        "ref_spectra = pd.read_csv('/content/drive/MyDrive/Brolis/Task/Data_prepared_syntetic/Data_prepared_syntetic/Reference_spectra.csv')"
      ],
      "execution_count": 192,
      "outputs": []
    },
    {
      "cell_type": "code",
      "metadata": {
        "colab": {
          "base_uri": "https://localhost:8080/",
          "height": 206
        },
        "id": "5Rxfy7DHTZ88",
        "outputId": "5cdd0cb7-9410-478d-e0eb-642e95043bf4"
      },
      "source": [
        "ref_spectra.head()"
      ],
      "execution_count": 261,
      "outputs": [
        {
          "output_type": "execute_result",
          "data": {
            "text/html": [
              "<div>\n",
              "<style scoped>\n",
              "    .dataframe tbody tr th:only-of-type {\n",
              "        vertical-align: middle;\n",
              "    }\n",
              "\n",
              "    .dataframe tbody tr th {\n",
              "        vertical-align: top;\n",
              "    }\n",
              "\n",
              "    .dataframe thead th {\n",
              "        text-align: right;\n",
              "    }\n",
              "</style>\n",
              "<table border=\"1\" class=\"dataframe\">\n",
              "  <thead>\n",
              "    <tr style=\"text-align: right;\">\n",
              "      <th></th>\n",
              "      <th>wavelength</th>\n",
              "      <th>glucose_absorptivity</th>\n",
              "      <th>water_absorptivity</th>\n",
              "    </tr>\n",
              "  </thead>\n",
              "  <tbody>\n",
              "    <tr>\n",
              "      <th>0</th>\n",
              "      <td>2000</td>\n",
              "      <td>0.02</td>\n",
              "      <td>0.021852</td>\n",
              "    </tr>\n",
              "    <tr>\n",
              "      <th>1</th>\n",
              "      <td>2001</td>\n",
              "      <td>0.02</td>\n",
              "      <td>0.021761</td>\n",
              "    </tr>\n",
              "    <tr>\n",
              "      <th>2</th>\n",
              "      <td>2002</td>\n",
              "      <td>0.02</td>\n",
              "      <td>0.021671</td>\n",
              "    </tr>\n",
              "    <tr>\n",
              "      <th>3</th>\n",
              "      <td>2003</td>\n",
              "      <td>0.02</td>\n",
              "      <td>0.021580</td>\n",
              "    </tr>\n",
              "    <tr>\n",
              "      <th>4</th>\n",
              "      <td>2004</td>\n",
              "      <td>0.02</td>\n",
              "      <td>0.021489</td>\n",
              "    </tr>\n",
              "  </tbody>\n",
              "</table>\n",
              "</div>"
            ],
            "text/plain": [
              "   wavelength  glucose_absorptivity  water_absorptivity\n",
              "0        2000                  0.02            0.021852\n",
              "1        2001                  0.02            0.021761\n",
              "2        2002                  0.02            0.021671\n",
              "3        2003                  0.02            0.021580\n",
              "4        2004                  0.02            0.021489"
            ]
          },
          "metadata": {},
          "execution_count": 261
        }
      ]
    },
    {
      "cell_type": "markdown",
      "metadata": {
        "id": "v7nKUZkLAjZy"
      },
      "source": [
        "Reading absorption spectra and extracting relevant information: wavelength, absorption and concentration:"
      ]
    },
    {
      "cell_type": "code",
      "metadata": {
        "id": "g3x9drsxdXK-"
      },
      "source": [
        "path = '/content/drive/MyDrive/Brolis/Task/Data_prepared_syntetic/Data_prepared_syntetic'\n",
        "filenames = [f for f in listdir(path) if f.endswith('.h5')]"
      ],
      "execution_count": 194,
      "outputs": []
    },
    {
      "cell_type": "code",
      "metadata": {
        "id": "X5OTQCsUdjxY"
      },
      "source": [
        "files = []\n",
        "\n",
        "for filename in filenames:\n",
        "\n",
        "  file_info = {}\n",
        "\n",
        "  with h5py.File(join(path, filename), \"r\") as f:\n",
        "\n",
        "    a_group_key = list(f.keys())[0]\n",
        "    group = f[a_group_key]\n",
        "\n",
        "    file_info['absorbance'] = group['block0_values'][()]\n",
        "    file_info['wavelength'] = group['block1_values'][()]\n",
        "    file_info['concentration'] = abs(float(re.findall(r\"[-+]?\\d*\\.\\d+|\\d+\", filename)[0]))\n",
        "    \n",
        "    files.append(file_info)"
      ],
      "execution_count": 195,
      "outputs": []
    },
    {
      "cell_type": "markdown",
      "metadata": {
        "id": "Mre3dQuSA4OY"
      },
      "source": [
        "I am going to construct a dataframe which consists wavelengths and all 10 provided spectra as well as reference spectra.\n",
        "All measurements are in range of 2000-2400 nm so I take wavelenghts only from\n",
        "the first measurement and then iterate over files to put extracted information into dictionary. This dictionary is then used to create a dataframe."
      ]
    },
    {
      "cell_type": "code",
      "metadata": {
        "id": "gXNlbmK8gceh"
      },
      "source": [
        "data = {'wavelength': files[0]['wavelength'].flatten()}\n",
        "\n",
        "for file in files:\n",
        "  concentration = file['concentration']\n",
        "  key = f'absorbance c={concentration}'\n",
        "  data[key] = file['absorbance'].flatten()"
      ],
      "execution_count": 197,
      "outputs": []
    },
    {
      "cell_type": "code",
      "metadata": {
        "id": "DvqxgxuYjZ0g"
      },
      "source": [
        "df = pd.DataFrame(data)"
      ],
      "execution_count": 198,
      "outputs": []
    },
    {
      "cell_type": "code",
      "metadata": {
        "id": "oWkNAJtBosJu"
      },
      "source": [
        "df = pd.merge(df, ref_spectra, on='wavelength')"
      ],
      "execution_count": 199,
      "outputs": []
    },
    {
      "cell_type": "code",
      "metadata": {
        "colab": {
          "base_uri": "https://localhost:8080/"
        },
        "id": "MGL3_Qm3kstP",
        "outputId": "130bc9b4-d59e-4491-f423-05bbf223778f"
      },
      "source": [
        "df.shape"
      ],
      "execution_count": 200,
      "outputs": [
        {
          "output_type": "execute_result",
          "data": {
            "text/plain": [
              "(401, 13)"
            ]
          },
          "metadata": {},
          "execution_count": 200
        }
      ]
    },
    {
      "cell_type": "code",
      "metadata": {
        "colab": {
          "base_uri": "https://localhost:8080/",
          "height": 224
        },
        "id": "LOUu3JsDo7IC",
        "outputId": "aecc3832-4cf5-44b8-f55d-40bb7aa62432"
      },
      "source": [
        "df.head()"
      ],
      "execution_count": 202,
      "outputs": [
        {
          "output_type": "execute_result",
          "data": {
            "text/html": [
              "<div>\n",
              "<style scoped>\n",
              "    .dataframe tbody tr th:only-of-type {\n",
              "        vertical-align: middle;\n",
              "    }\n",
              "\n",
              "    .dataframe tbody tr th {\n",
              "        vertical-align: top;\n",
              "    }\n",
              "\n",
              "    .dataframe thead th {\n",
              "        text-align: right;\n",
              "    }\n",
              "</style>\n",
              "<table border=\"1\" class=\"dataframe\">\n",
              "  <thead>\n",
              "    <tr style=\"text-align: right;\">\n",
              "      <th></th>\n",
              "      <th>wavelength</th>\n",
              "      <th>absorbance c=0.03</th>\n",
              "      <th>absorbance c=0.04</th>\n",
              "      <th>absorbance c=0.07</th>\n",
              "      <th>absorbance c=0.05</th>\n",
              "      <th>absorbance c=0.06</th>\n",
              "      <th>absorbance c=0.12</th>\n",
              "      <th>absorbance c=0.1</th>\n",
              "      <th>absorbance c=0.08</th>\n",
              "      <th>absorbance c=0.09</th>\n",
              "      <th>absorbance c=0.11</th>\n",
              "      <th>glucose_absorptivity</th>\n",
              "      <th>water_absorptivity</th>\n",
              "    </tr>\n",
              "  </thead>\n",
              "  <tbody>\n",
              "    <tr>\n",
              "      <th>0</th>\n",
              "      <td>2000</td>\n",
              "      <td>0.001091</td>\n",
              "      <td>0.001085</td>\n",
              "      <td>0.001084</td>\n",
              "      <td>0.001094</td>\n",
              "      <td>0.001094</td>\n",
              "      <td>0.001080</td>\n",
              "      <td>0.001087</td>\n",
              "      <td>0.001081</td>\n",
              "      <td>0.001083</td>\n",
              "      <td>0.001079</td>\n",
              "      <td>0.02</td>\n",
              "      <td>0.021852</td>\n",
              "    </tr>\n",
              "    <tr>\n",
              "      <th>1</th>\n",
              "      <td>2001</td>\n",
              "      <td>0.001090</td>\n",
              "      <td>0.001078</td>\n",
              "      <td>0.001078</td>\n",
              "      <td>0.001087</td>\n",
              "      <td>0.001088</td>\n",
              "      <td>0.001081</td>\n",
              "      <td>0.001084</td>\n",
              "      <td>0.001084</td>\n",
              "      <td>0.001087</td>\n",
              "      <td>0.001080</td>\n",
              "      <td>0.02</td>\n",
              "      <td>0.021761</td>\n",
              "    </tr>\n",
              "    <tr>\n",
              "      <th>2</th>\n",
              "      <td>2002</td>\n",
              "      <td>0.001077</td>\n",
              "      <td>0.001083</td>\n",
              "      <td>0.001075</td>\n",
              "      <td>0.001071</td>\n",
              "      <td>0.001075</td>\n",
              "      <td>0.001076</td>\n",
              "      <td>0.001072</td>\n",
              "      <td>0.001090</td>\n",
              "      <td>0.001068</td>\n",
              "      <td>0.001071</td>\n",
              "      <td>0.02</td>\n",
              "      <td>0.021671</td>\n",
              "    </tr>\n",
              "    <tr>\n",
              "      <th>3</th>\n",
              "      <td>2003</td>\n",
              "      <td>0.001082</td>\n",
              "      <td>0.001074</td>\n",
              "      <td>0.001072</td>\n",
              "      <td>0.001080</td>\n",
              "      <td>0.001078</td>\n",
              "      <td>0.001073</td>\n",
              "      <td>0.001074</td>\n",
              "      <td>0.001075</td>\n",
              "      <td>0.001080</td>\n",
              "      <td>0.001075</td>\n",
              "      <td>0.02</td>\n",
              "      <td>0.021580</td>\n",
              "    </tr>\n",
              "    <tr>\n",
              "      <th>4</th>\n",
              "      <td>2004</td>\n",
              "      <td>0.001072</td>\n",
              "      <td>0.001075</td>\n",
              "      <td>0.001070</td>\n",
              "      <td>0.001067</td>\n",
              "      <td>0.001078</td>\n",
              "      <td>0.001068</td>\n",
              "      <td>0.001077</td>\n",
              "      <td>0.001067</td>\n",
              "      <td>0.001065</td>\n",
              "      <td>0.001065</td>\n",
              "      <td>0.02</td>\n",
              "      <td>0.021489</td>\n",
              "    </tr>\n",
              "  </tbody>\n",
              "</table>\n",
              "</div>"
            ],
            "text/plain": [
              "   wavelength  absorbance c=0.03  ...  glucose_absorptivity  water_absorptivity\n",
              "0        2000           0.001091  ...                  0.02            0.021852\n",
              "1        2001           0.001090  ...                  0.02            0.021761\n",
              "2        2002           0.001077  ...                  0.02            0.021671\n",
              "3        2003           0.001082  ...                  0.02            0.021580\n",
              "4        2004           0.001072  ...                  0.02            0.021489\n",
              "\n",
              "[5 rows x 13 columns]"
            ]
          },
          "metadata": {},
          "execution_count": 202
        }
      ]
    },
    {
      "cell_type": "markdown",
      "metadata": {
        "id": "1VkxLzlcCcWL"
      },
      "source": [
        "By using the dataframe above I took various concentrations and the provided equation \n",
        "\n",
        "`𝐴 = 𝑎 + 𝑑 (𝑐*𝜀𝑔𝑙𝑢𝑐𝑜𝑠𝑒 +(1−𝑐)*𝜀𝑤𝑎𝑡𝑒𝑟) + 𝑢`\n",
        "\n",
        "and solved for a and d constants by hand (a approximately equal to 0.00012 and d approximately equal to 0.04). \n",
        "\n",
        "The next step is to fit linear regression model (because we have linear dependence shown in the equation) on our data and evaluate concentration prediction accuracy using RMSE. For that purpose I have to construct a new dataframe, where wavelength will be dropped, all absorption information is put into three columns (absorption spectrum A and two reference spectra) and concentration is put into target column."
      ]
    },
    {
      "cell_type": "code",
      "metadata": {
        "id": "F_yHG0ER1W2r"
      },
      "source": [
        "dataframes = []\n",
        "\n",
        "for column in df.columns:\n",
        "\n",
        "  if 'absorbance' in column:\n",
        "    \n",
        "    target_concentration = re.findall(r\"[-+]?\\d*\\.\\d+|\\d+\", column)[0]\n",
        "    temp_df = pd.DataFrame({'absorbance':df[column],\n",
        "                            'glucose_absorptivity': df['glucose_absorptivity'],\n",
        "                            'water_absorptivity': df['water_absorptivity'],\n",
        "                            'concentration': target_concentration})\n",
        "    \n",
        "    dataframes.append(temp_df)\n",
        "\n",
        "df_new = pd.concat(dataframes)"
      ],
      "execution_count": 223,
      "outputs": []
    },
    {
      "cell_type": "code",
      "metadata": {
        "id": "chMPUpd-1ZuY"
      },
      "source": [
        "df_new = df_new.sample(frac=1).reset_index(drop=True)"
      ],
      "execution_count": 231,
      "outputs": []
    },
    {
      "cell_type": "code",
      "metadata": {
        "colab": {
          "base_uri": "https://localhost:8080/",
          "height": 282
        },
        "id": "3AZWyezm4V8X",
        "outputId": "d0492b7e-0ee7-479c-8ea7-6448c8919b7b"
      },
      "source": [
        "df_new.concentration.value_counts().plot(kind = 'barh')"
      ],
      "execution_count": 233,
      "outputs": [
        {
          "output_type": "execute_result",
          "data": {
            "text/plain": [
              "<matplotlib.axes._subplots.AxesSubplot at 0x7fe81cc01ad0>"
            ]
          },
          "metadata": {},
          "execution_count": 233
        },
        {
          "output_type": "display_data",
          "data": {
            "image/png": "[encoded data removed]",
            "text/plain": [
              "<Figure size 432x288 with 1 Axes>"
            ]
          },
          "metadata": {
            "needs_background": "light"
          }
        }
      ]
    },
    {
      "cell_type": "markdown",
      "metadata": {
        "id": "oBpe1mr8EGRW"
      },
      "source": [
        "Every concentration target value has 400 samples, so dataset is perfectly balanced. It is now ready to be split to train and test subsets and trained."
      ]
    },
    {
      "cell_type": "code",
      "metadata": {
        "id": "11roogLR5Eym"
      },
      "source": [
        "X = df_new.drop(['concentration'], axis=1)\n",
        "y = df_new['concentration']\n",
        "X_train, X_test, y_train, y_test = train_test_split(X, y, test_size=0.33, random_state=42)"
      ],
      "execution_count": 246,
      "outputs": []
    },
    {
      "cell_type": "code",
      "metadata": {
        "id": "DiDO4Zna6NIu"
      },
      "source": [
        "reg = LinearRegression().fit(X_train, y_train)"
      ],
      "execution_count": 250,
      "outputs": []
    },
    {
      "cell_type": "code",
      "metadata": {
        "id": "NbCJHJlF6bxA"
      },
      "source": [
        "y_pred = reg.predict(X_test)"
      ],
      "execution_count": 256,
      "outputs": []
    },
    {
      "cell_type": "code",
      "metadata": {
        "colab": {
          "base_uri": "https://localhost:8080/"
        },
        "id": "A5snK56_8KZo",
        "outputId": "34431adb-4f61-477c-aa5d-1007886797a4"
      },
      "source": [
        "mean_squared_error(y_test, y_pred)"
      ],
      "execution_count": 259,
      "outputs": [
        {
          "output_type": "execute_result",
          "data": {
            "text/plain": [
              "0.0005946196836121249"
            ]
          },
          "metadata": {},
          "execution_count": 259
        }
      ]
    },
    {
      "cell_type": "markdown",
      "metadata": {
        "id": "x82YjUCfFJZe"
      },
      "source": [
        "The RMSE is the square root of the variance of the residuals (differences between predicted and actual values). It indicates the absolute fit of the model to the data – how close the observed data points are to the model’s predicted values. Lower values of RMSE indicate better fit. RMSE is a good measure of how accurately the model predicts the response, and it is the most important criterion for fit if the main purpose of the model is prediction.\n",
        "\n",
        "In this case real concentration values are of 10^-2 - 10^-1 order, so RMSE being of order 10^-4 indicates very good fit on the data."
      ]
    }
  ]
}