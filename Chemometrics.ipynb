{
  "nbformat": 4,
  "nbformat_minor": 0,
  "metadata": {
    "colab": {
      "name": "Chemometrics.ipynb",
      "provenance": [],
      "authorship_tag": "ABX9TyPKfkMVx28tkq+Y/JCVGy+J",
      "include_colab_link": true
    },
    "kernelspec": {
      "name": "python3",
      "display_name": "Python 3"
    },
    "language_info": {
      "name": "python"
    }
  },
  "cells": [
    {
      "cell_type": "markdown",
      "metadata": {
        "id": "view-in-github",
        "colab_type": "text"
      },
      "source": [
        "<a href=\"https://colab.research.google.com/github/tiskutis/Brolis/blob/main/Chemometrics.ipynb\" target=\"_parent\"><img src=\"https://colab.research.google.com/assets/colab-badge.svg\" alt=\"Open In Colab\"/></a>"
      ]
    },
    {
      "cell_type": "code",
      "metadata": {
        "id": "JeR3OqbHSuxP"
      },
      "source": [
        "import pandas as pd\n",
        "from pandas import Series\n",
        "from google.colab import drive\n",
        "from os.path import join\n",
        "import re"
      ],
      "execution_count": 152,
      "outputs": []
    },
    {
      "cell_type": "code",
      "metadata": {
        "colab": {
          "base_uri": "https://localhost:8080/"
        },
        "id": "7lEQMPxpfxFk",
        "outputId": "2687270e-216a-40b0-a9da-5db2aa4ed9d3"
      },
      "source": [
        "drive.mount('/content/drive/')"
      ],
      "execution_count": 117,
      "outputs": [
        {
          "output_type": "stream",
          "name": "stdout",
          "text": [
            "Drive already mounted at /content/drive/; to attempt to forcibly remount, call drive.mount(\"/content/drive/\", force_remount=True).\n"
          ]
        }
      ]
    },
    {
      "cell_type": "code",
      "metadata": {
        "id": "R9L6ESnUSxWd"
      },
      "source": [
        "ref_spectra = pd.read_csv('/content/drive/MyDrive/Brolis/Task/Data_prepared_syntetic/Data_prepared_syntetic/Reference_spectra.csv')"
      ],
      "execution_count": 3,
      "outputs": []
    },
    {
      "cell_type": "code",
      "metadata": {
        "colab": {
          "base_uri": "https://localhost:8080/",
          "height": 206
        },
        "id": "5Rxfy7DHTZ88",
        "outputId": "af14cc68-f766-483b-f3eb-fa4f7b895799"
      },
      "source": [
        "ref_spectra.head()"
      ],
      "execution_count": 98,
      "outputs": [
        {
          "output_type": "execute_result",
          "data": {
            "text/html": [
              "<div>\n",
              "<style scoped>\n",
              "    .dataframe tbody tr th:only-of-type {\n",
              "        vertical-align: middle;\n",
              "    }\n",
              "\n",
              "    .dataframe tbody tr th {\n",
              "        vertical-align: top;\n",
              "    }\n",
              "\n",
              "    .dataframe thead th {\n",
              "        text-align: right;\n",
              "    }\n",
              "</style>\n",
              "<table border=\"1\" class=\"dataframe\">\n",
              "  <thead>\n",
              "    <tr style=\"text-align: right;\">\n",
              "      <th></th>\n",
              "      <th>wavelength</th>\n",
              "      <th>glucose_absorptivity</th>\n",
              "      <th>water_absorptivity</th>\n",
              "    </tr>\n",
              "  </thead>\n",
              "  <tbody>\n",
              "    <tr>\n",
              "      <th>0</th>\n",
              "      <td>2000</td>\n",
              "      <td>0.02</td>\n",
              "      <td>0.021852</td>\n",
              "    </tr>\n",
              "    <tr>\n",
              "      <th>1</th>\n",
              "      <td>2001</td>\n",
              "      <td>0.02</td>\n",
              "      <td>0.021761</td>\n",
              "    </tr>\n",
              "    <tr>\n",
              "      <th>2</th>\n",
              "      <td>2002</td>\n",
              "      <td>0.02</td>\n",
              "      <td>0.021671</td>\n",
              "    </tr>\n",
              "    <tr>\n",
              "      <th>3</th>\n",
              "      <td>2003</td>\n",
              "      <td>0.02</td>\n",
              "      <td>0.021580</td>\n",
              "    </tr>\n",
              "    <tr>\n",
              "      <th>4</th>\n",
              "      <td>2004</td>\n",
              "      <td>0.02</td>\n",
              "      <td>0.021489</td>\n",
              "    </tr>\n",
              "  </tbody>\n",
              "</table>\n",
              "</div>"
            ],
            "text/plain": [
              "   wavelength  glucose_absorptivity  water_absorptivity\n",
              "0        2000                  0.02            0.021852\n",
              "1        2001                  0.02            0.021761\n",
              "2        2002                  0.02            0.021671\n",
              "3        2003                  0.02            0.021580\n",
              "4        2004                  0.02            0.021489"
            ]
          },
          "metadata": {},
          "execution_count": 98
        }
      ]
    },
    {
      "cell_type": "code",
      "metadata": {
        "id": "g3x9drsxdXK-"
      },
      "source": [
        "path = '/content/drive/MyDrive/Brolis/Task/Data_prepared_syntetic/Data_prepared_syntetic'\n",
        "filenames = [f for f in listdir(path) if f.endswith('.h5')]"
      ],
      "execution_count": 125,
      "outputs": []
    },
    {
      "cell_type": "code",
      "metadata": {
        "id": "X5OTQCsUdjxY"
      },
      "source": [
        "files = []\n",
        "\n",
        "for filename in filenames:\n",
        "  file_info = {}\n",
        "  with h5py.File(join(path, filename), \"r\") as f:\n",
        "    a_group_key = list(f.keys())[0]\n",
        "    group = f[a_group_key]\n",
        "\n",
        "    file_info['absorbance'] = group['block0_values'][()]\n",
        "    file_info['wavelength'] = group['block1_values'][()]\n",
        "    file_info['concentration'] = abs(float(re.findall(r\"[-+]?\\d*\\.\\d+|\\d+\", filename)[0]))\n",
        "    files.append(file_info)"
      ],
      "execution_count": 126,
      "outputs": []
    },
    {
      "cell_type": "code",
      "metadata": {
        "colab": {
          "base_uri": "https://localhost:8080/"
        },
        "id": "jaavTHVke2CD",
        "outputId": "05b11455-b942-49b5-baa8-2c182b4973ba"
      },
      "source": [
        "for file in files:\n",
        "  print(min(file['wavelength']), max(file['wavelength']))"
      ],
      "execution_count": 133,
      "outputs": [
        {
          "output_type": "stream",
          "name": "stdout",
          "text": [
            "[2000] [2400]\n",
            "[2000] [2400]\n",
            "[2000] [2400]\n",
            "[2000] [2400]\n",
            "[2000] [2400]\n",
            "[2000] [2400]\n",
            "[2000] [2400]\n",
            "[2000] [2400]\n",
            "[2000] [2400]\n",
            "[2000] [2400]\n"
          ]
        }
      ]
    },
    {
      "cell_type": "code",
      "metadata": {
        "id": "gXNlbmK8gceh"
      },
      "source": [
        "#All measurements are in range of 2000-2400 nm so I take wavelenghts only from\n",
        "#the first measurement. \n",
        "\n",
        "data = {'Wavelength': files[0]['wavelength'].flatten()}\n",
        "\n",
        "for file in files:\n",
        "  concentration = file['concentration']\n",
        "  key = f'Absorbance c={concentration}'\n",
        "  data[key] = file['absorbance'].flatten()"
      ],
      "execution_count": 180,
      "outputs": []
    },
    {
      "cell_type": "code",
      "metadata": {
        "id": "DvqxgxuYjZ0g"
      },
      "source": [
        "df = pd.DataFrame(data)"
      ],
      "execution_count": 181,
      "outputs": []
    },
    {
      "cell_type": "code",
      "metadata": {
        "colab": {
          "base_uri": "https://localhost:8080/",
          "height": 441
        },
        "id": "MGL3_Qm3kstP",
        "outputId": "34ceecb4-e5ed-42c0-fd33-dab6318636c0"
      },
      "source": [
        "df"
      ],
      "execution_count": 182,
      "outputs": [
        {
          "output_type": "execute_result",
          "data": {
            "text/html": [
              "<div>\n",
              "<style scoped>\n",
              "    .dataframe tbody tr th:only-of-type {\n",
              "        vertical-align: middle;\n",
              "    }\n",
              "\n",
              "    .dataframe tbody tr th {\n",
              "        vertical-align: top;\n",
              "    }\n",
              "\n",
              "    .dataframe thead th {\n",
              "        text-align: right;\n",
              "    }\n",
              "</style>\n",
              "<table border=\"1\" class=\"dataframe\">\n",
              "  <thead>\n",
              "    <tr style=\"text-align: right;\">\n",
              "      <th></th>\n",
              "      <th>Wavelength</th>\n",
              "      <th>Absorbance c=0.03</th>\n",
              "      <th>Absorbance c=0.04</th>\n",
              "      <th>Absorbance c=0.07</th>\n",
              "      <th>Absorbance c=0.05</th>\n",
              "      <th>Absorbance c=0.06</th>\n",
              "      <th>Absorbance c=0.12</th>\n",
              "      <th>Absorbance c=0.1</th>\n",
              "      <th>Absorbance c=0.08</th>\n",
              "      <th>Absorbance c=0.09</th>\n",
              "      <th>Absorbance c=0.11</th>\n",
              "    </tr>\n",
              "  </thead>\n",
              "  <tbody>\n",
              "    <tr>\n",
              "      <th>0</th>\n",
              "      <td>2000</td>\n",
              "      <td>0.001091</td>\n",
              "      <td>0.001085</td>\n",
              "      <td>0.001084</td>\n",
              "      <td>0.001094</td>\n",
              "      <td>0.001094</td>\n",
              "      <td>0.001080</td>\n",
              "      <td>0.001087</td>\n",
              "      <td>0.001081</td>\n",
              "      <td>0.001083</td>\n",
              "      <td>0.001079</td>\n",
              "    </tr>\n",
              "    <tr>\n",
              "      <th>1</th>\n",
              "      <td>2001</td>\n",
              "      <td>0.001090</td>\n",
              "      <td>0.001078</td>\n",
              "      <td>0.001078</td>\n",
              "      <td>0.001087</td>\n",
              "      <td>0.001088</td>\n",
              "      <td>0.001081</td>\n",
              "      <td>0.001084</td>\n",
              "      <td>0.001084</td>\n",
              "      <td>0.001087</td>\n",
              "      <td>0.001080</td>\n",
              "    </tr>\n",
              "    <tr>\n",
              "      <th>2</th>\n",
              "      <td>2002</td>\n",
              "      <td>0.001077</td>\n",
              "      <td>0.001083</td>\n",
              "      <td>0.001075</td>\n",
              "      <td>0.001071</td>\n",
              "      <td>0.001075</td>\n",
              "      <td>0.001076</td>\n",
              "      <td>0.001072</td>\n",
              "      <td>0.001090</td>\n",
              "      <td>0.001068</td>\n",
              "      <td>0.001071</td>\n",
              "    </tr>\n",
              "    <tr>\n",
              "      <th>3</th>\n",
              "      <td>2003</td>\n",
              "      <td>0.001082</td>\n",
              "      <td>0.001074</td>\n",
              "      <td>0.001072</td>\n",
              "      <td>0.001080</td>\n",
              "      <td>0.001078</td>\n",
              "      <td>0.001073</td>\n",
              "      <td>0.001074</td>\n",
              "      <td>0.001075</td>\n",
              "      <td>0.001080</td>\n",
              "      <td>0.001075</td>\n",
              "    </tr>\n",
              "    <tr>\n",
              "      <th>4</th>\n",
              "      <td>2004</td>\n",
              "      <td>0.001072</td>\n",
              "      <td>0.001075</td>\n",
              "      <td>0.001070</td>\n",
              "      <td>0.001067</td>\n",
              "      <td>0.001078</td>\n",
              "      <td>0.001068</td>\n",
              "      <td>0.001077</td>\n",
              "      <td>0.001067</td>\n",
              "      <td>0.001065</td>\n",
              "      <td>0.001065</td>\n",
              "    </tr>\n",
              "    <tr>\n",
              "      <th>...</th>\n",
              "      <td>...</td>\n",
              "      <td>...</td>\n",
              "      <td>...</td>\n",
              "      <td>...</td>\n",
              "      <td>...</td>\n",
              "      <td>...</td>\n",
              "      <td>...</td>\n",
              "      <td>...</td>\n",
              "      <td>...</td>\n",
              "      <td>...</td>\n",
              "      <td>...</td>\n",
              "    </tr>\n",
              "    <tr>\n",
              "      <th>396</th>\n",
              "      <td>2396</td>\n",
              "      <td>0.001079</td>\n",
              "      <td>0.001067</td>\n",
              "      <td>0.001073</td>\n",
              "      <td>0.001069</td>\n",
              "      <td>0.001067</td>\n",
              "      <td>0.001054</td>\n",
              "      <td>0.001069</td>\n",
              "      <td>0.001065</td>\n",
              "      <td>0.001068</td>\n",
              "      <td>0.001067</td>\n",
              "    </tr>\n",
              "    <tr>\n",
              "      <th>397</th>\n",
              "      <td>2397</td>\n",
              "      <td>0.001078</td>\n",
              "      <td>0.001074</td>\n",
              "      <td>0.001078</td>\n",
              "      <td>0.001077</td>\n",
              "      <td>0.001082</td>\n",
              "      <td>0.001075</td>\n",
              "      <td>0.001069</td>\n",
              "      <td>0.001070</td>\n",
              "      <td>0.001067</td>\n",
              "      <td>0.001069</td>\n",
              "    </tr>\n",
              "    <tr>\n",
              "      <th>398</th>\n",
              "      <td>2398</td>\n",
              "      <td>0.001084</td>\n",
              "      <td>0.001084</td>\n",
              "      <td>0.001073</td>\n",
              "      <td>0.001078</td>\n",
              "      <td>0.001079</td>\n",
              "      <td>0.001068</td>\n",
              "      <td>0.001076</td>\n",
              "      <td>0.001070</td>\n",
              "      <td>0.001074</td>\n",
              "      <td>0.001067</td>\n",
              "    </tr>\n",
              "    <tr>\n",
              "      <th>399</th>\n",
              "      <td>2399</td>\n",
              "      <td>0.001090</td>\n",
              "      <td>0.001090</td>\n",
              "      <td>0.001078</td>\n",
              "      <td>0.001083</td>\n",
              "      <td>0.001084</td>\n",
              "      <td>0.001076</td>\n",
              "      <td>0.001080</td>\n",
              "      <td>0.001079</td>\n",
              "      <td>0.001077</td>\n",
              "      <td>0.001079</td>\n",
              "    </tr>\n",
              "    <tr>\n",
              "      <th>400</th>\n",
              "      <td>2400</td>\n",
              "      <td>0.001092</td>\n",
              "      <td>0.001088</td>\n",
              "      <td>0.001086</td>\n",
              "      <td>0.001085</td>\n",
              "      <td>0.001087</td>\n",
              "      <td>0.001082</td>\n",
              "      <td>0.001077</td>\n",
              "      <td>0.001081</td>\n",
              "      <td>0.001074</td>\n",
              "      <td>0.001079</td>\n",
              "    </tr>\n",
              "  </tbody>\n",
              "</table>\n",
              "<p>401 rows × 11 columns</p>\n",
              "</div>"
            ],
            "text/plain": [
              "     Wavelength  Absorbance c=0.03  ...  Absorbance c=0.09  Absorbance c=0.11\n",
              "0          2000           0.001091  ...           0.001083           0.001079\n",
              "1          2001           0.001090  ...           0.001087           0.001080\n",
              "2          2002           0.001077  ...           0.001068           0.001071\n",
              "3          2003           0.001082  ...           0.001080           0.001075\n",
              "4          2004           0.001072  ...           0.001065           0.001065\n",
              "..          ...                ...  ...                ...                ...\n",
              "396        2396           0.001079  ...           0.001068           0.001067\n",
              "397        2397           0.001078  ...           0.001067           0.001069\n",
              "398        2398           0.001084  ...           0.001074           0.001067\n",
              "399        2399           0.001090  ...           0.001077           0.001079\n",
              "400        2400           0.001092  ...           0.001074           0.001079\n",
              "\n",
              "[401 rows x 11 columns]"
            ]
          },
          "metadata": {},
          "execution_count": 182
        }
      ]
    },
    {
      "cell_type": "code",
      "metadata": {
        "colab": {
          "base_uri": "https://localhost:8080/",
          "height": 296
        },
        "id": "3J9QwWAHjSpp",
        "outputId": "5522760e-6164-49d5-eda4-af7c5ed15d11"
      },
      "source": [
        "df.plot(x='Wavelength', y='Absorbance c=0.06')"
      ],
      "execution_count": 186,
      "outputs": [
        {
          "output_type": "execute_result",
          "data": {
            "text/plain": [
              "<matplotlib.axes._subplots.AxesSubplot at 0x7fe81cfd1750>"
            ]
          },
          "metadata": {},
          "execution_count": 186
        },
        {
          "output_type": "display_data",
          "data": {
            "image/png": "[encoded data removed]",
            "text/plain": [
              "<Figure size 432x288 with 1 Axes>"
            ]
          },
          "metadata": {
            "needs_background": "light"
          }
        }
      ]
    },
    {
      "cell_type": "code",
      "metadata": {
        "colab": {
          "base_uri": "https://localhost:8080/",
          "height": 297
        },
        "id": "_JzpawULfHk8",
        "outputId": "40511f3e-33f7-43c9-8d63-4cf61a3c9c80"
      },
      "source": [
        "df.plot(x='Wavelength', y='Absorbance c=0.12')"
      ],
      "execution_count": 185,
      "outputs": [
        {
          "output_type": "execute_result",
          "data": {
            "text/plain": [
              "<matplotlib.axes._subplots.AxesSubplot at 0x7fe81d05ab50>"
            ]
          },
          "metadata": {},
          "execution_count": 185
        },
        {
          "output_type": "display_data",
          "data": {
            "image/png": "[encoded data removed]",
            "text/plain": [
              "<Figure size 432x288 with 1 Axes>"
            ]
          },
          "metadata": {
            "needs_background": "light"
          }
        }
      ]
    },
    {
      "cell_type": "code",
      "metadata": {
        "id": "_ns90ornYpAD"
      },
      "source": [
        "# data = group['axis0'][()] # [b'wavelength' b'absorbance']\n",
        "    # data = group['axis1'][()] # index 0 - 401\n",
        "    # data = group['block0_items'][()] # [b'absorbance']\n",
        "    # data = group['block1_items'][()] # [b'wavelength']\n",
        "    # data = group['block0_values'][()] # absorbande data i need\n",
        "    # data = group['block1_values'][()] # wavelength data i need"
      ],
      "execution_count": null,
      "outputs": []
    }
  ]
}