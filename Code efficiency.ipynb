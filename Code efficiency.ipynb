{
  "nbformat": 4,
  "nbformat_minor": 0,
  "metadata": {
    "colab": {
      "name": "Untitled0.ipynb",
      "provenance": [],
      "authorship_tag": "ABX9TyNCSyKtJOyld7DW0PknsqPQ",
      "include_colab_link": true
    },
    "kernelspec": {
      "name": "python3",
      "display_name": "Python 3"
    },
    "language_info": {
      "name": "python"
    }
  },
  "cells": [
    {
      "cell_type": "markdown",
      "metadata": {
        "id": "view-in-github",
        "colab_type": "text"
      },
      "source": [
        "<a href=\"https://colab.research.google.com/github/tiskutis/Brolis/blob/main/Code%20efficiency.ipynb\" target=\"_parent\"><img src=\"https://colab.research.google.com/assets/colab-badge.svg\" alt=\"Open In Colab\"/></a>"
      ]
    },
    {
      "cell_type": "code",
      "metadata": {
        "colab": {
          "base_uri": "https://localhost:8080/"
        },
        "id": "c8ZgEzU3XFMQ",
        "outputId": "3cf8e5ff-4dc1-4f8b-ec25-d26074dc31b5"
      },
      "source": [
        "import numpy as np\n",
        "import pandas as pd\n",
        "import datetime\n",
        "\n",
        "from google.colab import drive\n",
        "\n",
        "drive.mount('/content/drive/')"
      ],
      "execution_count": 1,
      "outputs": [
        {
          "output_type": "stream",
          "name": "stdout",
          "text": [
            "Mounted at /content/drive/\n"
          ]
        }
      ]
    },
    {
      "cell_type": "code",
      "metadata": {
        "id": "PaZBk2S1Xp0B"
      },
      "source": [
        "df = pd.read_csv((\"/content/drive/MyDrive/Brolis/Task/data_for_code_efficiency.csv\"))"
      ],
      "execution_count": 3,
      "outputs": []
    },
    {
      "cell_type": "code",
      "metadata": {
        "id": "Jc_xxa_4XrZV"
      },
      "source": [
        "dff = pd.read_csv((\"/content/drive/MyDrive/Brolis/Task/data_for_code_efficiency.csv\"))\n",
        "dff['datetime'] = pd.to_datetime(dff['datetime'])"
      ],
      "execution_count": 5,
      "outputs": []
    },
    {
      "cell_type": "code",
      "metadata": {
        "colab": {
          "base_uri": "https://localhost:8080/"
        },
        "id": "rK6APSabYGps",
        "outputId": "9019d4c6-743a-4256-cef7-080d570aadb8"
      },
      "source": [
        "dff['datetime'].min() "
      ],
      "execution_count": 10,
      "outputs": [
        {
          "output_type": "execute_result",
          "data": {
            "text/plain": [
              "Timestamp('2021-09-16 00:00:00')"
            ]
          },
          "metadata": {},
          "execution_count": 10
        }
      ]
    },
    {
      "cell_type": "code",
      "metadata": {
        "colab": {
          "base_uri": "https://localhost:8080/"
        },
        "id": "yFYQQAIiXBMW",
        "outputId": "2ba580bb-6eb0-4b90-bb3a-85d8464f7296"
      },
      "source": [
        "## inefficient code, which calculates max value of z1_32 every 5 seconds\n",
        "\n",
        "window_size = 5 #in seconds\n",
        "\n",
        "## import data\n",
        "dff = pd.read_csv((\"/content/drive/MyDrive/Brolis/Task/data_for_code_efficiency.csv\"))\n",
        "dff['datetime'] = pd.to_datetime(dff['datetime'])\n",
        "\n",
        "\n",
        "time1 = datetime.datetime.now()\n",
        "\n",
        "#split the time into periods\n",
        "\n",
        "t1 = dff['datetime'].min()  \n",
        "t2 = t1 + np.timedelta64(window_size, 's')\n",
        "period = 0\n",
        "\n",
        "while t1 <= dff['datetime'].max():\n",
        "    dff.loc[(dff['datetime'] >= t1) & (dff['datetime'] < t2), 'Period'] = period\n",
        "    period = period + 1\n",
        "    t1 = t2\n",
        "    t2 = t2 + np.timedelta64(window_size, 's')\n",
        "\n",
        "# for every period, calculate maximum value of z1_32 \n",
        "# and middle value of time\n",
        "dff_max = pd.DataFrame()\n",
        "for period in dff['Period'].unique():\n",
        "    max_value = dff[dff['Period'] == period]['z1_32'].max()\n",
        "    times = dff[dff['Period'] == period]['datetime']\n",
        "    middle_time = times.iloc[len(times) // 2]\n",
        "    dff_max_period = pd.DataFrame({'datetime': middle_time,\n",
        "                                  'z1_32': max_value}, index = [0])\n",
        "    dff_max = dff_max.append(dff_max_period)\n",
        "dff_max = dff_max.reset_index(drop = True)   \n",
        "\n",
        "time2 = datetime.datetime.now()\n",
        "print(dff_max['z1_32'].mean())\n",
        "\n",
        "print(time2 - time1)\n"
      ],
      "execution_count": 2,
      "outputs": [
        {
          "output_type": "stream",
          "name": "stdout",
          "text": [
            "1.984763791633457\n",
            "0:00:52.369301\n"
          ]
        }
      ]
    }
  ]
}