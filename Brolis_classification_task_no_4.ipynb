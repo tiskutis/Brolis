{
  "nbformat": 4,
  "nbformat_minor": 0,
  "metadata": {
    "colab": {
      "name": "Brolis classification task no.4",
      "provenance": []
    },
    "kernelspec": {
      "name": "python3",
      "display_name": "Python 3"
    },
    "language_info": {
      "name": "python"
    }
  },
  "cells": [
    {
      "cell_type": "markdown",
      "metadata": {
        "id": "dX1zLUyywYNs"
      },
      "source": [
        "4. Classification problem\n",
        "In data_for_classification.csv you will find the data, where target variable is y, which should be categorized into two categories: 0 if y < 244, 1 if y >= 244. Your task is to make a classification model which predicts the category of y. Variables x_.. are possible predictors, but not all of them must be used in the model. You can freely choose the model you want to use, briefly explain why are you using this model, evaluate the prediction accuracy by calculating the percentage of True positive (both real and predicted category is 1) and True negative (both real and predicted category is 0) predictions. Find which predictors should be used in order to get the best prediction accuracy. This is real world data, the target variable is hard to predict, so do not expect very good model performance.\n"
      ]
    },
    {
      "cell_type": "code",
      "metadata": {
        "id": "QldU1h_KwgO7"
      },
      "source": [
        "import pandas as pd\n",
        "import numpy as np\n",
        "from google.colab import drive\n",
        "import matplotlib.pyplot as plt\n",
        "import os\n",
        "import pandas as pd\n",
        "import matplotlib.pyplot as plt\n",
        "import seaborn as sns\n",
        "import numpy as np\n",
        "from scipy.stats import norm\n",
        "from sklearn.preprocessing import StandardScaler\n",
        "from scipy import stats\n",
        "import warnings\n",
        "from sklearn.preprocessing import MinMaxScaler\n",
        "from sklearn.preprocessing import scale\n",
        "from sklearn.ensemble import RandomForestRegressor\n",
        "from sklearn.linear_model import LinearRegression\n",
        "import matplotlib.gridspec as gridspec\n",
        "from sklearn.metrics import classification_report, confusion_matrix, ConfusionMatrixDisplay, accuracy_score, roc_auc_score\n",
        "import matplotlib.style as style\n",
        "style.use('fivethirtyeight')\n",
        "from pprint import pprint\n",
        "\n",
        "from sklearn.model_selection import RandomizedSearchCV\n",
        "warnings.filterwarnings('ignore')\n",
        "%matplotlib inline\n",
        "style.use('fivethirtyeight')"
      ],
      "execution_count": 711,
      "outputs": []
    },
    {
      "cell_type": "code",
      "metadata": {
        "colab": {
          "base_uri": "https://localhost:8080/"
        },
        "id": "JduJUNNSwErS",
        "outputId": "feff1604-c11b-4a23-82ea-7c9d4123e5d8"
      },
      "source": [
        "drive.mount('/content/gdrive')"
      ],
      "execution_count": 712,
      "outputs": [
        {
          "output_type": "stream",
          "name": "stdout",
          "text": [
            "Drive already mounted at /content/gdrive; to attempt to forcibly remount, call drive.mount(\"/content/gdrive\", force_remount=True).\n"
          ]
        }
      ]
    },
    {
      "cell_type": "code",
      "metadata": {
        "id": "5M0we37dwe3E"
      },
      "source": [
        "df = pd.read_csv('/content/gdrive/MyDrive/Brolis/Task/data_for_classification.csv')"
      ],
      "execution_count": 713,
      "outputs": []
    },
    {
      "cell_type": "code",
      "metadata": {
        "colab": {
          "base_uri": "https://localhost:8080/",
          "height": 175
        },
        "id": "gH81DTVhwjmg",
        "outputId": "7a3fb2d3-b981-4816-e0c1-3dbfa65e668a"
      },
      "source": [
        "df[df.isna().any(axis=1)]"
      ],
      "execution_count": 714,
      "outputs": [
        {
          "output_type": "execute_result",
          "data": {
            "text/html": [
              "<div>\n",
              "<style scoped>\n",
              "    .dataframe tbody tr th:only-of-type {\n",
              "        vertical-align: middle;\n",
              "    }\n",
              "\n",
              "    .dataframe tbody tr th {\n",
              "        vertical-align: top;\n",
              "    }\n",
              "\n",
              "    .dataframe thead th {\n",
              "        text-align: right;\n",
              "    }\n",
              "</style>\n",
              "<table border=\"1\" class=\"dataframe\">\n",
              "  <thead>\n",
              "    <tr style=\"text-align: right;\">\n",
              "      <th></th>\n",
              "      <th>y</th>\n",
              "      <th>x_m</th>\n",
              "      <th>x_h</th>\n",
              "      <th>x_l</th>\n",
              "      <th>x_p</th>\n",
              "      <th>x_f</th>\n",
              "      <th>x_a</th>\n",
              "    </tr>\n",
              "  </thead>\n",
              "  <tbody>\n",
              "    <tr>\n",
              "      <th>112</th>\n",
              "      <td>840.0</td>\n",
              "      <td>8.789502</td>\n",
              "      <td>3.242412</td>\n",
              "      <td>0.209366</td>\n",
              "      <td>-0.091293</td>\n",
              "      <td>1.110506</td>\n",
              "      <td>NaN</td>\n",
              "    </tr>\n",
              "    <tr>\n",
              "      <th>192</th>\n",
              "      <td>293.0</td>\n",
              "      <td>7.633541</td>\n",
              "      <td>1.076465</td>\n",
              "      <td>-0.160571</td>\n",
              "      <td>0.238406</td>\n",
              "      <td>0.081292</td>\n",
              "      <td>NaN</td>\n",
              "    </tr>\n",
              "    <tr>\n",
              "      <th>308</th>\n",
              "      <td>19.0</td>\n",
              "      <td>6.719610</td>\n",
              "      <td>1.927840</td>\n",
              "      <td>-0.116618</td>\n",
              "      <td>-0.172418</td>\n",
              "      <td>-0.294193</td>\n",
              "      <td>NaN</td>\n",
              "    </tr>\n",
              "    <tr>\n",
              "      <th>325</th>\n",
              "      <td>109.0</td>\n",
              "      <td>7.697168</td>\n",
              "      <td>1.268023</td>\n",
              "      <td>-0.052945</td>\n",
              "      <td>-0.201735</td>\n",
              "      <td>-1.068219</td>\n",
              "      <td>NaN</td>\n",
              "    </tr>\n",
              "  </tbody>\n",
              "</table>\n",
              "</div>"
            ],
            "text/plain": [
              "         y       x_m       x_h       x_l       x_p       x_f  x_a\n",
              "112  840.0  8.789502  3.242412  0.209366 -0.091293  1.110506  NaN\n",
              "192  293.0  7.633541  1.076465 -0.160571  0.238406  0.081292  NaN\n",
              "308   19.0  6.719610  1.927840 -0.116618 -0.172418 -0.294193  NaN\n",
              "325  109.0  7.697168  1.268023 -0.052945 -0.201735 -1.068219  NaN"
            ]
          },
          "metadata": {},
          "execution_count": 714
        }
      ]
    },
    {
      "cell_type": "code",
      "metadata": {
        "colab": {
          "base_uri": "https://localhost:8080/"
        },
        "id": "fK_8xFqUa1pe",
        "outputId": "41548f1a-d6c1-49cc-8da6-d27fa21a67ea"
      },
      "source": [
        "df.duplicated().sum()"
      ],
      "execution_count": 715,
      "outputs": [
        {
          "output_type": "execute_result",
          "data": {
            "text/plain": [
              "0"
            ]
          },
          "metadata": {},
          "execution_count": 715
        }
      ]
    },
    {
      "cell_type": "code",
      "metadata": {
        "colab": {
          "base_uri": "https://localhost:8080/",
          "height": 300
        },
        "id": "SAIR0I5oxFN6",
        "outputId": "ed940077-e1cd-4378-c7ea-36433fc83ec0"
      },
      "source": [
        "df.describe()"
      ],
      "execution_count": 716,
      "outputs": [
        {
          "output_type": "execute_result",
          "data": {
            "text/html": [
              "<div>\n",
              "<style scoped>\n",
              "    .dataframe tbody tr th:only-of-type {\n",
              "        vertical-align: middle;\n",
              "    }\n",
              "\n",
              "    .dataframe tbody tr th {\n",
              "        vertical-align: top;\n",
              "    }\n",
              "\n",
              "    .dataframe thead th {\n",
              "        text-align: right;\n",
              "    }\n",
              "</style>\n",
              "<table border=\"1\" class=\"dataframe\">\n",
              "  <thead>\n",
              "    <tr style=\"text-align: right;\">\n",
              "      <th></th>\n",
              "      <th>y</th>\n",
              "      <th>x_m</th>\n",
              "      <th>x_h</th>\n",
              "      <th>x_l</th>\n",
              "      <th>x_p</th>\n",
              "      <th>x_f</th>\n",
              "      <th>x_a</th>\n",
              "    </tr>\n",
              "  </thead>\n",
              "  <tbody>\n",
              "    <tr>\n",
              "      <th>count</th>\n",
              "      <td>345.000000</td>\n",
              "      <td>345.000000</td>\n",
              "      <td>345.000000</td>\n",
              "      <td>345.000000</td>\n",
              "      <td>345.000000</td>\n",
              "      <td>345.000000</td>\n",
              "      <td>341.000000</td>\n",
              "    </tr>\n",
              "    <tr>\n",
              "      <th>mean</th>\n",
              "      <td>202.726087</td>\n",
              "      <td>7.418440</td>\n",
              "      <td>1.271010</td>\n",
              "      <td>-0.017885</td>\n",
              "      <td>0.181755</td>\n",
              "      <td>0.177621</td>\n",
              "      <td>0.100774</td>\n",
              "    </tr>\n",
              "    <tr>\n",
              "      <th>std</th>\n",
              "      <td>334.657267</td>\n",
              "      <td>0.773922</td>\n",
              "      <td>0.643083</td>\n",
              "      <td>0.182132</td>\n",
              "      <td>0.283607</td>\n",
              "      <td>0.787671</td>\n",
              "      <td>2.346774</td>\n",
              "    </tr>\n",
              "    <tr>\n",
              "      <th>min</th>\n",
              "      <td>10.000000</td>\n",
              "      <td>4.058123</td>\n",
              "      <td>-0.608994</td>\n",
              "      <td>-0.710749</td>\n",
              "      <td>-0.512930</td>\n",
              "      <td>-2.012873</td>\n",
              "      <td>-12.321055</td>\n",
              "    </tr>\n",
              "    <tr>\n",
              "      <th>25%</th>\n",
              "      <td>37.000000</td>\n",
              "      <td>6.893680</td>\n",
              "      <td>0.843609</td>\n",
              "      <td>-0.117974</td>\n",
              "      <td>-0.014568</td>\n",
              "      <td>-0.379418</td>\n",
              "      <td>-0.945401</td>\n",
              "    </tr>\n",
              "    <tr>\n",
              "      <th>50%</th>\n",
              "      <td>88.000000</td>\n",
              "      <td>7.318857</td>\n",
              "      <td>1.169927</td>\n",
              "      <td>0.003153</td>\n",
              "      <td>0.149074</td>\n",
              "      <td>0.100482</td>\n",
              "      <td>0.261414</td>\n",
              "    </tr>\n",
              "    <tr>\n",
              "      <th>75%</th>\n",
              "      <td>202.000000</td>\n",
              "      <td>7.840882</td>\n",
              "      <td>1.609482</td>\n",
              "      <td>0.115102</td>\n",
              "      <td>0.349777</td>\n",
              "      <td>0.658724</td>\n",
              "      <td>1.272923</td>\n",
              "    </tr>\n",
              "    <tr>\n",
              "      <th>max</th>\n",
              "      <td>2000.000000</td>\n",
              "      <td>10.545773</td>\n",
              "      <td>3.732908</td>\n",
              "      <td>0.374394</td>\n",
              "      <td>1.510459</td>\n",
              "      <td>2.680834</td>\n",
              "      <td>7.125682</td>\n",
              "    </tr>\n",
              "  </tbody>\n",
              "</table>\n",
              "</div>"
            ],
            "text/plain": [
              "                 y         x_m         x_h  ...         x_p         x_f         x_a\n",
              "count   345.000000  345.000000  345.000000  ...  345.000000  345.000000  341.000000\n",
              "mean    202.726087    7.418440    1.271010  ...    0.181755    0.177621    0.100774\n",
              "std     334.657267    0.773922    0.643083  ...    0.283607    0.787671    2.346774\n",
              "min      10.000000    4.058123   -0.608994  ...   -0.512930   -2.012873  -12.321055\n",
              "25%      37.000000    6.893680    0.843609  ...   -0.014568   -0.379418   -0.945401\n",
              "50%      88.000000    7.318857    1.169927  ...    0.149074    0.100482    0.261414\n",
              "75%     202.000000    7.840882    1.609482  ...    0.349777    0.658724    1.272923\n",
              "max    2000.000000   10.545773    3.732908  ...    1.510459    2.680834    7.125682\n",
              "\n",
              "[8 rows x 7 columns]"
            ]
          },
          "metadata": {},
          "execution_count": 716
        }
      ]
    },
    {
      "cell_type": "code",
      "metadata": {
        "id": "LBV0tUZ2xGEk"
      },
      "source": [
        "df = df.fillna(df.mean())"
      ],
      "execution_count": 717,
      "outputs": []
    },
    {
      "cell_type": "code",
      "metadata": {
        "colab": {
          "base_uri": "https://localhost:8080/"
        },
        "id": "A-MxJbdCxm43",
        "outputId": "b2f5c755-f7c6-4d4b-c14a-d96364e4a14d"
      },
      "source": [
        "df[(df['y']>=244)]['y'].count(), df[(df['y']<244)]['y'].count()"
      ],
      "execution_count": 718,
      "outputs": [
        {
          "output_type": "execute_result",
          "data": {
            "text/plain": [
              "(71, 274)"
            ]
          },
          "metadata": {},
          "execution_count": 718
        }
      ]
    },
    {
      "cell_type": "code",
      "metadata": {
        "colab": {
          "base_uri": "https://localhost:8080/",
          "height": 269
        },
        "id": "Is9XWAtMhaRW",
        "outputId": "20af7ff2-710c-4267-90ad-24dbc61dc9b3"
      },
      "source": [
        "corr = df.corr()\n",
        "corr.style.background_gradient(cmap='coolwarm')"
      ],
      "execution_count": 719,
      "outputs": [
        {
          "output_type": "execute_result",
          "data": {
            "text/html": [
              "<style  type=\"text/css\" >\n",
              "#T_88650580_55f8_11ec_aefc_0242ac1c0002row0_col0,#T_88650580_55f8_11ec_aefc_0242ac1c0002row1_col1,#T_88650580_55f8_11ec_aefc_0242ac1c0002row2_col2,#T_88650580_55f8_11ec_aefc_0242ac1c0002row3_col3,#T_88650580_55f8_11ec_aefc_0242ac1c0002row4_col4,#T_88650580_55f8_11ec_aefc_0242ac1c0002row5_col5,#T_88650580_55f8_11ec_aefc_0242ac1c0002row6_col6{\n",
              "            background-color:  #b40426;\n",
              "            color:  #f1f1f1;\n",
              "        }#T_88650580_55f8_11ec_aefc_0242ac1c0002row0_col1{\n",
              "            background-color:  #f6bfa6;\n",
              "            color:  #000000;\n",
              "        }#T_88650580_55f8_11ec_aefc_0242ac1c0002row0_col2,#T_88650580_55f8_11ec_aefc_0242ac1c0002row4_col5{\n",
              "            background-color:  #dfdbd9;\n",
              "            color:  #000000;\n",
              "        }#T_88650580_55f8_11ec_aefc_0242ac1c0002row0_col3{\n",
              "            background-color:  #6f92f3;\n",
              "            color:  #000000;\n",
              "        }#T_88650580_55f8_11ec_aefc_0242ac1c0002row0_col4{\n",
              "            background-color:  #80a3fa;\n",
              "            color:  #000000;\n",
              "        }#T_88650580_55f8_11ec_aefc_0242ac1c0002row0_col5{\n",
              "            background-color:  #779af7;\n",
              "            color:  #000000;\n",
              "        }#T_88650580_55f8_11ec_aefc_0242ac1c0002row0_col6{\n",
              "            background-color:  #4a63d3;\n",
              "            color:  #f1f1f1;\n",
              "        }#T_88650580_55f8_11ec_aefc_0242ac1c0002row1_col0{\n",
              "            background-color:  #edd1c2;\n",
              "            color:  #000000;\n",
              "        }#T_88650580_55f8_11ec_aefc_0242ac1c0002row1_col2{\n",
              "            background-color:  #ea7b60;\n",
              "            color:  #000000;\n",
              "        }#T_88650580_55f8_11ec_aefc_0242ac1c0002row1_col3,#T_88650580_55f8_11ec_aefc_0242ac1c0002row3_col0,#T_88650580_55f8_11ec_aefc_0242ac1c0002row3_col1,#T_88650580_55f8_11ec_aefc_0242ac1c0002row3_col2,#T_88650580_55f8_11ec_aefc_0242ac1c0002row3_col4,#T_88650580_55f8_11ec_aefc_0242ac1c0002row3_col5,#T_88650580_55f8_11ec_aefc_0242ac1c0002row4_col6{\n",
              "            background-color:  #3b4cc0;\n",
              "            color:  #f1f1f1;\n",
              "        }#T_88650580_55f8_11ec_aefc_0242ac1c0002row1_col4{\n",
              "            background-color:  #6c8ff1;\n",
              "            color:  #000000;\n",
              "        }#T_88650580_55f8_11ec_aefc_0242ac1c0002row1_col5{\n",
              "            background-color:  #5d7ce6;\n",
              "            color:  #000000;\n",
              "        }#T_88650580_55f8_11ec_aefc_0242ac1c0002row1_col6{\n",
              "            background-color:  #5673e0;\n",
              "            color:  #000000;\n",
              "        }#T_88650580_55f8_11ec_aefc_0242ac1c0002row2_col0{\n",
              "            background-color:  #e4d9d2;\n",
              "            color:  #000000;\n",
              "        }#T_88650580_55f8_11ec_aefc_0242ac1c0002row2_col1{\n",
              "            background-color:  #e26952;\n",
              "            color:  #000000;\n",
              "        }#T_88650580_55f8_11ec_aefc_0242ac1c0002row2_col3{\n",
              "            background-color:  #7b9ff9;\n",
              "            color:  #000000;\n",
              "        }#T_88650580_55f8_11ec_aefc_0242ac1c0002row2_col4{\n",
              "            background-color:  #7ea1fa;\n",
              "            color:  #000000;\n",
              "        }#T_88650580_55f8_11ec_aefc_0242ac1c0002row2_col5{\n",
              "            background-color:  #85a8fc;\n",
              "            color:  #000000;\n",
              "        }#T_88650580_55f8_11ec_aefc_0242ac1c0002row2_col6{\n",
              "            background-color:  #5470de;\n",
              "            color:  #000000;\n",
              "        }#T_88650580_55f8_11ec_aefc_0242ac1c0002row3_col6{\n",
              "            background-color:  #7da0f9;\n",
              "            color:  #000000;\n",
              "        }#T_88650580_55f8_11ec_aefc_0242ac1c0002row4_col0{\n",
              "            background-color:  #9ebeff;\n",
              "            color:  #000000;\n",
              "        }#T_88650580_55f8_11ec_aefc_0242ac1c0002row4_col1{\n",
              "            background-color:  #b7cff9;\n",
              "            color:  #000000;\n",
              "        }#T_88650580_55f8_11ec_aefc_0242ac1c0002row4_col2{\n",
              "            background-color:  #90b2fe;\n",
              "            color:  #000000;\n",
              "        }#T_88650580_55f8_11ec_aefc_0242ac1c0002row4_col3{\n",
              "            background-color:  #8fb1fe;\n",
              "            color:  #000000;\n",
              "        }#T_88650580_55f8_11ec_aefc_0242ac1c0002row5_col0{\n",
              "            background-color:  #92b4fe;\n",
              "            color:  #000000;\n",
              "        }#T_88650580_55f8_11ec_aefc_0242ac1c0002row5_col1{\n",
              "            background-color:  #a7c5fe;\n",
              "            color:  #000000;\n",
              "        }#T_88650580_55f8_11ec_aefc_0242ac1c0002row5_col2{\n",
              "            background-color:  #93b5fe;\n",
              "            color:  #000000;\n",
              "        }#T_88650580_55f8_11ec_aefc_0242ac1c0002row5_col3{\n",
              "            background-color:  #89acfd;\n",
              "            color:  #000000;\n",
              "        }#T_88650580_55f8_11ec_aefc_0242ac1c0002row5_col4{\n",
              "            background-color:  #dddcdc;\n",
              "            color:  #000000;\n",
              "        }#T_88650580_55f8_11ec_aefc_0242ac1c0002row5_col6{\n",
              "            background-color:  #6b8df0;\n",
              "            color:  #000000;\n",
              "        }#T_88650580_55f8_11ec_aefc_0242ac1c0002row6_col0{\n",
              "            background-color:  #6e90f2;\n",
              "            color:  #000000;\n",
              "        }#T_88650580_55f8_11ec_aefc_0242ac1c0002row6_col1{\n",
              "            background-color:  #a9c6fd;\n",
              "            color:  #000000;\n",
              "        }#T_88650580_55f8_11ec_aefc_0242ac1c0002row6_col2{\n",
              "            background-color:  #6a8bef;\n",
              "            color:  #000000;\n",
              "        }#T_88650580_55f8_11ec_aefc_0242ac1c0002row6_col3{\n",
              "            background-color:  #c4d5f3;\n",
              "            color:  #000000;\n",
              "        }#T_88650580_55f8_11ec_aefc_0242ac1c0002row6_col4{\n",
              "            background-color:  #3d50c3;\n",
              "            color:  #f1f1f1;\n",
              "        }#T_88650580_55f8_11ec_aefc_0242ac1c0002row6_col5{\n",
              "            background-color:  #7396f5;\n",
              "            color:  #000000;\n",
              "        }</style><table id=\"T_88650580_55f8_11ec_aefc_0242ac1c0002\" class=\"dataframe\"><thead>    <tr>        <th class=\"blank level0\" ></th>        <th class=\"col_heading level0 col0\" >y</th>        <th class=\"col_heading level0 col1\" >x_m</th>        <th class=\"col_heading level0 col2\" >x_h</th>        <th class=\"col_heading level0 col3\" >x_l</th>        <th class=\"col_heading level0 col4\" >x_p</th>        <th class=\"col_heading level0 col5\" >x_f</th>        <th class=\"col_heading level0 col6\" >x_a</th>    </tr></thead><tbody>\n",
              "                <tr>\n",
              "                        <th id=\"T_88650580_55f8_11ec_aefc_0242ac1c0002level0_row0\" class=\"row_heading level0 row0\" >y</th>\n",
              "                        <td id=\"T_88650580_55f8_11ec_aefc_0242ac1c0002row0_col0\" class=\"data row0 col0\" >1.000000</td>\n",
              "                        <td id=\"T_88650580_55f8_11ec_aefc_0242ac1c0002row0_col1\" class=\"data row0 col1\" >0.434778</td>\n",
              "                        <td id=\"T_88650580_55f8_11ec_aefc_0242ac1c0002row0_col2\" class=\"data row0 col2\" >0.379541</td>\n",
              "                        <td id=\"T_88650580_55f8_11ec_aefc_0242ac1c0002row0_col3\" class=\"data row0 col3\" >-0.318678</td>\n",
              "                        <td id=\"T_88650580_55f8_11ec_aefc_0242ac1c0002row0_col4\" class=\"data row0 col4\" >0.073395</td>\n",
              "                        <td id=\"T_88650580_55f8_11ec_aefc_0242ac1c0002row0_col5\" class=\"data row0 col5\" >0.027967</td>\n",
              "                        <td id=\"T_88650580_55f8_11ec_aefc_0242ac1c0002row0_col6\" class=\"data row0 col6\" >-0.103698</td>\n",
              "            </tr>\n",
              "            <tr>\n",
              "                        <th id=\"T_88650580_55f8_11ec_aefc_0242ac1c0002level0_row1\" class=\"row_heading level0 row1\" >x_m</th>\n",
              "                        <td id=\"T_88650580_55f8_11ec_aefc_0242ac1c0002row1_col0\" class=\"data row1 col0\" >0.434778</td>\n",
              "                        <td id=\"T_88650580_55f8_11ec_aefc_0242ac1c0002row1_col1\" class=\"data row1 col1\" >1.000000</td>\n",
              "                        <td id=\"T_88650580_55f8_11ec_aefc_0242ac1c0002row1_col2\" class=\"data row1 col2\" >0.771810</td>\n",
              "                        <td id=\"T_88650580_55f8_11ec_aefc_0242ac1c0002row1_col3\" class=\"data row1 col3\" >-0.580372</td>\n",
              "                        <td id=\"T_88650580_55f8_11ec_aefc_0242ac1c0002row1_col4\" class=\"data row1 col4\" >0.007089</td>\n",
              "                        <td id=\"T_88650580_55f8_11ec_aefc_0242ac1c0002row1_col5\" class=\"data row1 col5\" >-0.063168</td>\n",
              "                        <td id=\"T_88650580_55f8_11ec_aefc_0242ac1c0002row1_col6\" class=\"data row1 col6\" >-0.057465</td>\n",
              "            </tr>\n",
              "            <tr>\n",
              "                        <th id=\"T_88650580_55f8_11ec_aefc_0242ac1c0002level0_row2\" class=\"row_heading level0 row2\" >x_h</th>\n",
              "                        <td id=\"T_88650580_55f8_11ec_aefc_0242ac1c0002row2_col0\" class=\"data row2 col0\" >0.379541</td>\n",
              "                        <td id=\"T_88650580_55f8_11ec_aefc_0242ac1c0002row2_col1\" class=\"data row2 col1\" >0.771810</td>\n",
              "                        <td id=\"T_88650580_55f8_11ec_aefc_0242ac1c0002row2_col2\" class=\"data row2 col2\" >1.000000</td>\n",
              "                        <td id=\"T_88650580_55f8_11ec_aefc_0242ac1c0002row2_col3\" class=\"data row2 col3\" >-0.261509</td>\n",
              "                        <td id=\"T_88650580_55f8_11ec_aefc_0242ac1c0002row2_col4\" class=\"data row2 col4\" >0.066342</td>\n",
              "                        <td id=\"T_88650580_55f8_11ec_aefc_0242ac1c0002row2_col5\" class=\"data row2 col5\" >0.074900</td>\n",
              "                        <td id=\"T_88650580_55f8_11ec_aefc_0242ac1c0002row2_col6\" class=\"data row2 col6\" >-0.070080</td>\n",
              "            </tr>\n",
              "            <tr>\n",
              "                        <th id=\"T_88650580_55f8_11ec_aefc_0242ac1c0002level0_row3\" class=\"row_heading level0 row3\" >x_l</th>\n",
              "                        <td id=\"T_88650580_55f8_11ec_aefc_0242ac1c0002row3_col0\" class=\"data row3 col0\" >-0.318678</td>\n",
              "                        <td id=\"T_88650580_55f8_11ec_aefc_0242ac1c0002row3_col1\" class=\"data row3 col1\" >-0.580372</td>\n",
              "                        <td id=\"T_88650580_55f8_11ec_aefc_0242ac1c0002row3_col2\" class=\"data row3 col2\" >-0.261509</td>\n",
              "                        <td id=\"T_88650580_55f8_11ec_aefc_0242ac1c0002row3_col3\" class=\"data row3 col3\" >1.000000</td>\n",
              "                        <td id=\"T_88650580_55f8_11ec_aefc_0242ac1c0002row3_col4\" class=\"data row3 col4\" >-0.178252</td>\n",
              "                        <td id=\"T_88650580_55f8_11ec_aefc_0242ac1c0002row3_col5\" class=\"data row3 col5\" >-0.198092</td>\n",
              "                        <td id=\"T_88650580_55f8_11ec_aefc_0242ac1c0002row3_col6\" class=\"data row3 col6\" >0.072476</td>\n",
              "            </tr>\n",
              "            <tr>\n",
              "                        <th id=\"T_88650580_55f8_11ec_aefc_0242ac1c0002level0_row4\" class=\"row_heading level0 row4\" >x_p</th>\n",
              "                        <td id=\"T_88650580_55f8_11ec_aefc_0242ac1c0002row4_col0\" class=\"data row4 col0\" >0.073395</td>\n",
              "                        <td id=\"T_88650580_55f8_11ec_aefc_0242ac1c0002row4_col1\" class=\"data row4 col1\" >0.007089</td>\n",
              "                        <td id=\"T_88650580_55f8_11ec_aefc_0242ac1c0002row4_col2\" class=\"data row4 col2\" >0.066342</td>\n",
              "                        <td id=\"T_88650580_55f8_11ec_aefc_0242ac1c0002row4_col3\" class=\"data row4 col3\" >-0.178252</td>\n",
              "                        <td id=\"T_88650580_55f8_11ec_aefc_0242ac1c0002row4_col4\" class=\"data row4 col4\" >1.000000</td>\n",
              "                        <td id=\"T_88650580_55f8_11ec_aefc_0242ac1c0002row4_col5\" class=\"data row4 col5\" >0.412192</td>\n",
              "                        <td id=\"T_88650580_55f8_11ec_aefc_0242ac1c0002row4_col6\" class=\"data row4 col6\" >-0.165968</td>\n",
              "            </tr>\n",
              "            <tr>\n",
              "                        <th id=\"T_88650580_55f8_11ec_aefc_0242ac1c0002level0_row5\" class=\"row_heading level0 row5\" >x_f</th>\n",
              "                        <td id=\"T_88650580_55f8_11ec_aefc_0242ac1c0002row5_col0\" class=\"data row5 col0\" >0.027967</td>\n",
              "                        <td id=\"T_88650580_55f8_11ec_aefc_0242ac1c0002row5_col1\" class=\"data row5 col1\" >-0.063168</td>\n",
              "                        <td id=\"T_88650580_55f8_11ec_aefc_0242ac1c0002row5_col2\" class=\"data row5 col2\" >0.074900</td>\n",
              "                        <td id=\"T_88650580_55f8_11ec_aefc_0242ac1c0002row5_col3\" class=\"data row5 col3\" >-0.198092</td>\n",
              "                        <td id=\"T_88650580_55f8_11ec_aefc_0242ac1c0002row5_col4\" class=\"data row5 col4\" >0.412192</td>\n",
              "                        <td id=\"T_88650580_55f8_11ec_aefc_0242ac1c0002row5_col5\" class=\"data row5 col5\" >1.000000</td>\n",
              "                        <td id=\"T_88650580_55f8_11ec_aefc_0242ac1c0002row5_col6\" class=\"data row5 col6\" >0.015810</td>\n",
              "            </tr>\n",
              "            <tr>\n",
              "                        <th id=\"T_88650580_55f8_11ec_aefc_0242ac1c0002level0_row6\" class=\"row_heading level0 row6\" >x_a</th>\n",
              "                        <td id=\"T_88650580_55f8_11ec_aefc_0242ac1c0002row6_col0\" class=\"data row6 col0\" >-0.103698</td>\n",
              "                        <td id=\"T_88650580_55f8_11ec_aefc_0242ac1c0002row6_col1\" class=\"data row6 col1\" >-0.057465</td>\n",
              "                        <td id=\"T_88650580_55f8_11ec_aefc_0242ac1c0002row6_col2\" class=\"data row6 col2\" >-0.070080</td>\n",
              "                        <td id=\"T_88650580_55f8_11ec_aefc_0242ac1c0002row6_col3\" class=\"data row6 col3\" >0.072476</td>\n",
              "                        <td id=\"T_88650580_55f8_11ec_aefc_0242ac1c0002row6_col4\" class=\"data row6 col4\" >-0.165968</td>\n",
              "                        <td id=\"T_88650580_55f8_11ec_aefc_0242ac1c0002row6_col5\" class=\"data row6 col5\" >0.015810</td>\n",
              "                        <td id=\"T_88650580_55f8_11ec_aefc_0242ac1c0002row6_col6\" class=\"data row6 col6\" >1.000000</td>\n",
              "            </tr>\n",
              "    </tbody></table>"
            ],
            "text/plain": [
              "<pandas.io.formats.style.Styler at 0x7fde8c117650>"
            ]
          },
          "metadata": {},
          "execution_count": 719
        }
      ]
    },
    {
      "cell_type": "code",
      "metadata": {
        "id": "1GJ_3NSajNNM"
      },
      "source": [
        "# plt.scatter(df['x_m'], df['y'])\n",
        "# plt.scatter(df['x_h'], df['y'])\n",
        "# plt.scatter(df['x_l'], df['y'])\n",
        "# plt.scatter(df['x_p'], df['y'])\n",
        "# plt.scatter(df['x_f'], df['y'])\n",
        "# plt.scatter(df['x_a'], df['y'])"
      ],
      "execution_count": 720,
      "outputs": []
    },
    {
      "cell_type": "code",
      "metadata": {
        "colab": {
          "base_uri": "https://localhost:8080/",
          "height": 321
        },
        "id": "loLV6RxTkX4P",
        "outputId": "06c5efbf-80ae-4a14-ca68-12862daa2e96"
      },
      "source": [
        "sns.distplot(df['y'])\n",
        "plt.xlim(0, 500)"
      ],
      "execution_count": 721,
      "outputs": [
        {
          "output_type": "execute_result",
          "data": {
            "text/plain": [
              "(0.0, 500.0)"
            ]
          },
          "metadata": {},
          "execution_count": 721
        },
        {
          "output_type": "display_data",
          "data": {
            "image/png": "[encoded data removed]",
            "text/plain": [
              "<Figure size 432x288 with 1 Axes>"
            ]
          },
          "metadata": {}
        }
      ]
    },
    {
      "cell_type": "code",
      "metadata": {
        "id": "1k6oyLXojTZ2"
      },
      "source": [
        "df.drop(['x_p', 'x_f', 'x_a'], axis=1, inplace=True)"
      ],
      "execution_count": 722,
      "outputs": []
    },
    {
      "cell_type": "code",
      "metadata": {
        "id": "ucojLI3pGkkq"
      },
      "source": [
        "df_test1 = df[(df['y']>=244)].sample(20) # 1\n",
        "df_test0 = df[(df['y']<244)].sample(20) #0"
      ],
      "execution_count": 723,
      "outputs": []
    },
    {
      "cell_type": "code",
      "metadata": {
        "id": "hfO5mTR-KTiG"
      },
      "source": [
        "df_test = pd.concat([df_test0, df_test1]).sample(frac=1)"
      ],
      "execution_count": 724,
      "outputs": []
    },
    {
      "cell_type": "code",
      "metadata": {
        "id": "YS1cMDOdLFRj"
      },
      "source": [
        "already_present_index = df.index.intersection(df_test.index)\n",
        "missing_index = df.index.difference(df_test.index)\n",
        "\n",
        "df_train = pd.DataFrame().append(df.loc[missing_index, :])\n",
        "df_train = df_train.reset_index(drop=True)"
      ],
      "execution_count": 725,
      "outputs": []
    },
    {
      "cell_type": "code",
      "metadata": {
        "colab": {
          "base_uri": "https://localhost:8080/"
        },
        "id": "Xk1wiPlDtLLQ",
        "outputId": "08261fe3-7f2e-43b6-9949-182f2e47a5f0"
      },
      "source": [
        "df_train[(df_train['y']>=244)]['y'].count(), df_train[(df_train['y']<244)]['y'].count()"
      ],
      "execution_count": 726,
      "outputs": [
        {
          "output_type": "execute_result",
          "data": {
            "text/plain": [
              "(51, 254)"
            ]
          },
          "metadata": {},
          "execution_count": 726
        }
      ]
    },
    {
      "cell_type": "code",
      "metadata": {
        "id": "0pkh_xhVx2fM"
      },
      "source": [
        "df_train['binary'] = df_train['y'].apply(lambda x: 1 if x >=244 else 0)"
      ],
      "execution_count": 727,
      "outputs": []
    },
    {
      "cell_type": "code",
      "metadata": {
        "id": "UAqXi2RlUct9"
      },
      "source": [
        "# features = ['x_m', 'x_h', 'x_l'] \n",
        "# target = df_train2['y']\n",
        "\n",
        "features = ['x_m', 'x_h', 'x_l', 'y'] \n",
        "target = df_train['binary']"
      ],
      "execution_count": 728,
      "outputs": []
    },
    {
      "cell_type": "code",
      "metadata": {
        "id": "5ZrNaFHLyGSM"
      },
      "source": [
        "smote = SMOTE(sampling_strategy='minority')\n",
        "X_sm, y_sm = smote.fit_resample(df_train[features], target)"
      ],
      "execution_count": 729,
      "outputs": []
    },
    {
      "cell_type": "code",
      "metadata": {
        "colab": {
          "base_uri": "https://localhost:8080/",
          "height": 321
        },
        "id": "nJx1o-sly5dj",
        "outputId": "0968a125-3439-4f25-e0ca-26e9d02754fd"
      },
      "source": [
        "sns.distplot(X_sm['y'])\n",
        "plt.xlim(0, 500)"
      ],
      "execution_count": 730,
      "outputs": [
        {
          "output_type": "execute_result",
          "data": {
            "text/plain": [
              "(0.0, 500.0)"
            ]
          },
          "metadata": {},
          "execution_count": 730
        },
        {
          "output_type": "display_data",
          "data": {
            "image/png": "[encoded data removed]",
            "text/plain": [
              "<Figure size 432x288 with 1 Axes>"
            ]
          },
          "metadata": {}
        }
      ]
    },
    {
      "cell_type": "code",
      "metadata": {
        "id": "DajWpEWYzZB5"
      },
      "source": [
        "df_new = pd.DataFrame(X_sm, columns=features)"
      ],
      "execution_count": 731,
      "outputs": []
    },
    {
      "cell_type": "code",
      "metadata": {
        "id": "MmuSe6PpzyNK"
      },
      "source": [
        "df_new = df_new.sample(frac=1).reset_index(drop=True)"
      ],
      "execution_count": 732,
      "outputs": []
    },
    {
      "cell_type": "code",
      "metadata": {
        "id": "a7C2Mz5t0EuN"
      },
      "source": [
        "X_train = df_new[['x_m', 'x_h', 'x_l']]\n",
        "y_train = df_new['y']"
      ],
      "execution_count": 733,
      "outputs": []
    },
    {
      "cell_type": "code",
      "metadata": {
        "id": "Oc0j9imAmsnv"
      },
      "source": [
        "# scaler = StandardScaler()   "
      ],
      "execution_count": 734,
      "outputs": []
    },
    {
      "cell_type": "code",
      "metadata": {
        "id": "LbS2lotom1Ad"
      },
      "source": [
        "# X_train = scaler.fit_transform(df_train[features])"
      ],
      "execution_count": 735,
      "outputs": []
    },
    {
      "cell_type": "code",
      "metadata": {
        "id": "Ab6LTZFtsBaK"
      },
      "source": [
        "# value = np.log(max(df_train['y']))\n",
        "# y_train = target.apply(lambda x: np.log(x)/value)"
      ],
      "execution_count": 736,
      "outputs": []
    },
    {
      "cell_type": "code",
      "metadata": {
        "id": "2Ib9vD-9mMNK"
      },
      "source": [
        "# # Randomized Search CV - parameter hypertuning for RF\n",
        "# # Number of trees in random forest\n",
        "# n_estimators = [int(x) for x in np.linspace(start = 100, stop = 2000, num = 15)]\n",
        "# # Number of features to consider at every split\n",
        "# max_features = ['auto', 'sqrt']\n",
        "# # Maximum number of levels in tree\n",
        "# max_depth = [int(x) for x in np.linspace(1, 6, num = 6)]\n",
        "# # max_depth.append(None)\n",
        "# # # Minimum number of samples required to split a node\n",
        "# # min_samples_split = [2, 5, 10]\n",
        "# # # Minimum number of samples required at each leaf node\n",
        "# # min_samples_leaf = [1, 2, 4]\n",
        "# # Method of selecting samples for training each tree\n",
        "# bootstrap = [True, False]\n",
        "# # Create the random grid\n",
        "# random_grid = {'n_estimators': n_estimators,\n",
        "#                'max_features': max_features,\n",
        "#                'max_depth': max_depth,\n",
        "#                'bootstrap': bootstrap}\n",
        "# pprint(random_grid)"
      ],
      "execution_count": 737,
      "outputs": []
    },
    {
      "cell_type": "code",
      "metadata": {
        "id": "9ofYQODeu5Mt"
      },
      "source": [
        "# rf_random = RandomizedSearchCV(estimator = RandomForestRegressor(), param_distributions = random_grid, n_iter = 100, verbose=2, random_state=42, n_jobs = -1)"
      ],
      "execution_count": 738,
      "outputs": []
    },
    {
      "cell_type": "code",
      "metadata": {
        "id": "cmMjwXv2vNt_"
      },
      "source": [
        "# rf_random.fit(X_train, y_train)\n",
        "\n",
        "# rf_random.best_params_"
      ],
      "execution_count": 739,
      "outputs": []
    },
    {
      "cell_type": "code",
      "metadata": {
        "id": "1KQciSHtYIdu"
      },
      "source": [
        "random_forest = RandomForestRegressor(\n",
        " max_depth=2,\n",
        " max_features='auto',\n",
        " n_estimators=1728)"
      ],
      "execution_count": 740,
      "outputs": []
    },
    {
      "cell_type": "code",
      "metadata": {
        "colab": {
          "base_uri": "https://localhost:8080/"
        },
        "id": "zyeMAhXxYUEx",
        "outputId": "1487a31e-b7c0-473c-8af5-2b69b0e6ca37"
      },
      "source": [
        "random_forest.fit(X_train, y_train)"
      ],
      "execution_count": 741,
      "outputs": [
        {
          "output_type": "execute_result",
          "data": {
            "text/plain": [
              "RandomForestRegressor(max_depth=2, n_estimators=1728)"
            ]
          },
          "metadata": {},
          "execution_count": 741
        }
      ]
    },
    {
      "cell_type": "code",
      "metadata": {
        "id": "7pQFRe3kYcQr"
      },
      "source": [
        "y_pred = random_forest.predict(df_test[['x_m', 'x_h', 'x_l']])"
      ],
      "execution_count": 742,
      "outputs": []
    },
    {
      "cell_type": "code",
      "metadata": {
        "id": "4XT1X8MhqAY5"
      },
      "source": [
        "# y_preds = np.round(pd.Series(y_pred).apply(lambda x: np.exp(x*value)))"
      ],
      "execution_count": 743,
      "outputs": []
    },
    {
      "cell_type": "code",
      "metadata": {
        "id": "fbGbZToeqwoO"
      },
      "source": [
        "y_preds_binary = pd.Series(y_pred).apply(lambda x: 1 if x >= 244 else 0)"
      ],
      "execution_count": 744,
      "outputs": []
    },
    {
      "cell_type": "code",
      "metadata": {
        "id": "kyGDZEuYrEFi"
      },
      "source": [
        "y_true = df_test['y'].apply(lambda x: 1 if x >=244 else 0)"
      ],
      "execution_count": 745,
      "outputs": []
    },
    {
      "cell_type": "code",
      "metadata": {
        "colab": {
          "base_uri": "https://localhost:8080/"
        },
        "id": "ndHZTTZzrDDo",
        "outputId": "d6523456-348d-4334-c985-04492a42e82f"
      },
      "source": [
        "accuracy_score(y_true, y_preds_binary)"
      ],
      "execution_count": 746,
      "outputs": [
        {
          "output_type": "execute_result",
          "data": {
            "text/plain": [
              "0.75"
            ]
          },
          "metadata": {},
          "execution_count": 746
        }
      ]
    },
    {
      "cell_type": "code",
      "metadata": {
        "id": "ABaVVwB1aTat"
      },
      "source": [
        "# accuracy_score(df_test['y_binary_true'], df_test['y_binary'])"
      ],
      "execution_count": 747,
      "outputs": []
    },
    {
      "cell_type": "code",
      "metadata": {
        "colab": {
          "base_uri": "https://localhost:8080/"
        },
        "id": "0qTMbieOao_X",
        "outputId": "09357ff2-e2ec-4a32-9c12-6d94dfe6c05e"
      },
      "source": [
        "print(classification_report(y_true, y_preds_binary))"
      ],
      "execution_count": 748,
      "outputs": [
        {
          "output_type": "stream",
          "name": "stdout",
          "text": [
            "              precision    recall  f1-score   support\n",
            "\n",
            "           0       0.73      0.80      0.76        20\n",
            "           1       0.78      0.70      0.74        20\n",
            "\n",
            "    accuracy                           0.75        40\n",
            "   macro avg       0.75      0.75      0.75        40\n",
            "weighted avg       0.75      0.75      0.75        40\n",
            "\n"
          ]
        }
      ]
    },
    {
      "cell_type": "code",
      "metadata": {
        "colab": {
          "base_uri": "https://localhost:8080/",
          "height": 326
        },
        "id": "pEt_Ib1EgBrm",
        "outputId": "defbd7ca-60df-4141-f8d2-192c66fe49c6"
      },
      "source": [
        "disp = ConfusionMatrixDisplay(confusion_matrix(y_true, y_preds_binary))\n",
        "disp.plot()"
      ],
      "execution_count": 749,
      "outputs": [
        {
          "output_type": "execute_result",
          "data": {
            "text/plain": [
              "<sklearn.metrics._plot.confusion_matrix.ConfusionMatrixDisplay at 0x7fde8c121c50>"
            ]
          },
          "metadata": {},
          "execution_count": 749
        },
        {
          "output_type": "display_data",
          "data": {
            "image/png": "[encoded data removed]",
            "text/plain": [
              "<Figure size 432x288 with 2 Axes>"
            ]
          },
          "metadata": {}
        }
      ]
    }
  ]
}